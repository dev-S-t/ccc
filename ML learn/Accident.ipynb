{
  "nbformat": 4,
  "nbformat_minor": 0,
  "metadata": {
    "colab": {
      "provenance": [],
      "include_colab_link": true
    },
    "kernelspec": {
      "name": "python3",
      "display_name": "Python 3"
    },
    "language_info": {
      "name": "python"
    }
  },
  "cells": [
    {
      "cell_type": "markdown",
      "metadata": {
        "id": "view-in-github",
        "colab_type": "text"
      },
      "source": [
        "<a href=\"https://colab.research.google.com/github/dev-S-t/ccc/blob/main/ML%20learn/Accident.ipynb\" target=\"_parent\"><img src=\"https://colab.research.google.com/assets/colab-badge.svg\" alt=\"Open In Colab\"/></a>"
      ]
    },
    {
      "cell_type": "markdown",
      "source": [
        "# **EDA** Aviation Accidents\n",
        "---\n",
        "\n",
        "\n",
        "*   **location**\n",
        "\n",
        "\n",
        "> * what are hotspot for accidents ?\n",
        "\n",
        "\n",
        "> * majority for data from which location?\n",
        "\n",
        "\n",
        "\n",
        "*   **Date**\n",
        "\n",
        "\n",
        "> * how the number is decreasing/increasing over the years\n",
        "\n",
        "> * What are the months with maximum accidents\n",
        ">Days with most accidents\n",
        "> Purpose of flight depending on the day\n",
        "\n",
        "\n",
        "\n",
        "\n",
        "*   **Make**\n",
        "\n",
        "\n",
        ">*  Most careless facilities\n",
        "\n",
        "\n",
        "*   \n",
        "---\n",
        "us is more represented , cant use country column &&\n",
        "no data before 1982\n",
        "\n",
        "---\n",
        "Split location in city and state\n",
        "\n",
        "---\n",
        "\n"
      ],
      "metadata": {
        "id": "F_fLtV0Tvt63"
      }
    },
    {
      "cell_type": "markdown",
      "source": [
        "## Downloading the data"
      ],
      "metadata": {
        "id": "C9zYrY58wK-2"
      }
    },
    {
      "cell_type": "code",
      "execution_count": 33,
      "metadata": {
        "id": "xcc3V2HLgOV_",
        "colab": {
          "base_uri": "https://localhost:8080/"
        },
        "outputId": "0070f1fe-03fa-41cb-fff5-820d1b90e481"
      },
      "outputs": [
        {
          "output_type": "stream",
          "name": "stdout",
          "text": [
            "fatal: destination path 'ML' already exists and is not an empty directory.\n"
          ]
        }
      ],
      "source": [
        "! git clone https://github.com/dev-S-t/ML.git"
      ]
    },
    {
      "cell_type": "code",
      "source": [
        "data_loc = '/content/ML/data-DevrathSir/CCC_EDA_Aviation_Accident.csv'"
      ],
      "metadata": {
        "id": "ylM1xaRAzFUS"
      },
      "execution_count": 34,
      "outputs": []
    },
    {
      "cell_type": "markdown",
      "source": [
        "## Data **Cleaning** and **Prep**\n",
        "\n",
        "> remove na\n",
        ">> remove columns or row --- not doing untill needed\n",
        "\n",
        "> identify and remove outliers\n",
        "\n",
        "\n",
        "\n",
        "> Change column names\n",
        "\n",
        "> Indented block\n",
        "\n",
        "\n",
        "\n",
        "\n",
        "\n"
      ],
      "metadata": {
        "id": "sHjrCGwLwZx4"
      }
    },
    {
      "cell_type": "code",
      "source": [
        "import pandas as pd\n",
        "import seaborn as sns\n",
        "import matplotlib.pyplot as plt\n",
        "\n"
      ],
      "metadata": {
        "id": "3_OhcpcxgUbx"
      },
      "execution_count": 35,
      "outputs": []
    },
    {
      "cell_type": "code",
      "source": [
        "df = pd.read_csv(data_loc)\n",
        "df"
      ],
      "metadata": {
        "colab": {
          "base_uri": "https://localhost:8080/",
          "height": 652
        },
        "id": "5qH3S2wxgUeK",
        "outputId": "143d17a2-9de0-4ede-b536-7821d93477a9"
      },
      "execution_count": 36,
      "outputs": [
        {
          "output_type": "execute_result",
          "data": {
            "text/plain": [
              "       Unnamed: 0        Event.Id Investigation.Type  Event.Date  \\\n",
              "0               0  20001218X45444           Accident  1948-10-24   \n",
              "1               1  20001218X45447           Accident  1962-07-19   \n",
              "2               2  20061025X01555           Accident  1974-08-30   \n",
              "3               3  20001218X45448           Accident  1977-06-19   \n",
              "4               4  20041105X01764           Accident  1979-08-02   \n",
              "...           ...             ...                ...         ...   \n",
              "88884       88884  20221227106491           Accident  2022-12-26   \n",
              "88885       88885  20221227106494           Accident  2022-12-26   \n",
              "88886       88886  20221227106497           Accident  2022-12-26   \n",
              "88887       88887  20221227106498           Accident  2022-12-26   \n",
              "88888       88888  20221230106513           Accident  2022-12-29   \n",
              "\n",
              "              Location        Country Injury.Severity Aircraft.damage  \\\n",
              "0      MOOSE CREEK, ID  United States        Fatal(2)       Destroyed   \n",
              "1       BRIDGEPORT, CA  United States        Fatal(4)       Destroyed   \n",
              "2        Saltville, VA  United States        Fatal(3)       Destroyed   \n",
              "3           EUREKA, CA  United States        Fatal(2)       Destroyed   \n",
              "4           Canton, OH  United States        Fatal(1)       Destroyed   \n",
              "...                ...            ...             ...             ...   \n",
              "88884    Annapolis, MD  United States           Minor             NaN   \n",
              "88885      Hampton, NH  United States             NaN             NaN   \n",
              "88886       Payson, AZ  United States       Non-Fatal     Substantial   \n",
              "88887       Morgan, UT  United States             NaN             NaN   \n",
              "88888       Athens, GA  United States           Minor             NaN   \n",
              "\n",
              "                             Make      Model  Number.of.Engines  \\\n",
              "0                         Stinson      108-3                1.0   \n",
              "1                           Piper   PA24-180                1.0   \n",
              "2                          Cessna       172M                1.0   \n",
              "3                        Rockwell        112                1.0   \n",
              "4                          Cessna        501                NaN   \n",
              "...                           ...        ...                ...   \n",
              "88884                       PIPER  PA-28-151                NaN   \n",
              "88885                    BELLANCA       7ECA                NaN   \n",
              "88886  AMERICAN CHAMPION AIRCRAFT      8GCBC                1.0   \n",
              "88887                      CESSNA       210N                NaN   \n",
              "88888                       PIPER  PA-24-260                NaN   \n",
              "\n",
              "         Engine.Type Purpose.of.flight  Total.Fatal.Injuries  \\\n",
              "0      Reciprocating          Personal                   2.0   \n",
              "1      Reciprocating          Personal                   4.0   \n",
              "2      Reciprocating          Personal                   3.0   \n",
              "3      Reciprocating          Personal                   2.0   \n",
              "4                NaN          Personal                   1.0   \n",
              "...              ...               ...                   ...   \n",
              "88884            NaN          Personal                   0.0   \n",
              "88885            NaN               NaN                   0.0   \n",
              "88886            NaN          Personal                   0.0   \n",
              "88887            NaN          Personal                   0.0   \n",
              "88888            NaN          Personal                   0.0   \n",
              "\n",
              "       Total.Serious.Injuries  Total.Minor.Injuries  Total.Uninjured  \\\n",
              "0                         0.0                   0.0              0.0   \n",
              "1                         0.0                   0.0              0.0   \n",
              "2                         NaN                   NaN              NaN   \n",
              "3                         0.0                   0.0              0.0   \n",
              "4                         2.0                   NaN              0.0   \n",
              "...                       ...                   ...              ...   \n",
              "88884                     1.0                   0.0              0.0   \n",
              "88885                     0.0                   0.0              0.0   \n",
              "88886                     0.0                   0.0              1.0   \n",
              "88887                     0.0                   0.0              0.0   \n",
              "88888                     1.0                   0.0              1.0   \n",
              "\n",
              "      Weather.Condition  \n",
              "0                   UNK  \n",
              "1                   UNK  \n",
              "2                   IMC  \n",
              "3                   IMC  \n",
              "4                   VMC  \n",
              "...                 ...  \n",
              "88884               NaN  \n",
              "88885               NaN  \n",
              "88886               VMC  \n",
              "88887               NaN  \n",
              "88888               NaN  \n",
              "\n",
              "[88889 rows x 18 columns]"
            ],
            "text/html": [
              "\n",
              "  <div id=\"df-86dc9e1f-8748-460c-bf10-9bec55d8fbfb\" class=\"colab-df-container\">\n",
              "    <div>\n",
              "<style scoped>\n",
              "    .dataframe tbody tr th:only-of-type {\n",
              "        vertical-align: middle;\n",
              "    }\n",
              "\n",
              "    .dataframe tbody tr th {\n",
              "        vertical-align: top;\n",
              "    }\n",
              "\n",
              "    .dataframe thead th {\n",
              "        text-align: right;\n",
              "    }\n",
              "</style>\n",
              "<table border=\"1\" class=\"dataframe\">\n",
              "  <thead>\n",
              "    <tr style=\"text-align: right;\">\n",
              "      <th></th>\n",
              "      <th>Unnamed: 0</th>\n",
              "      <th>Event.Id</th>\n",
              "      <th>Investigation.Type</th>\n",
              "      <th>Event.Date</th>\n",
              "      <th>Location</th>\n",
              "      <th>Country</th>\n",
              "      <th>Injury.Severity</th>\n",
              "      <th>Aircraft.damage</th>\n",
              "      <th>Make</th>\n",
              "      <th>Model</th>\n",
              "      <th>Number.of.Engines</th>\n",
              "      <th>Engine.Type</th>\n",
              "      <th>Purpose.of.flight</th>\n",
              "      <th>Total.Fatal.Injuries</th>\n",
              "      <th>Total.Serious.Injuries</th>\n",
              "      <th>Total.Minor.Injuries</th>\n",
              "      <th>Total.Uninjured</th>\n",
              "      <th>Weather.Condition</th>\n",
              "    </tr>\n",
              "  </thead>\n",
              "  <tbody>\n",
              "    <tr>\n",
              "      <th>0</th>\n",
              "      <td>0</td>\n",
              "      <td>20001218X45444</td>\n",
              "      <td>Accident</td>\n",
              "      <td>1948-10-24</td>\n",
              "      <td>MOOSE CREEK, ID</td>\n",
              "      <td>United States</td>\n",
              "      <td>Fatal(2)</td>\n",
              "      <td>Destroyed</td>\n",
              "      <td>Stinson</td>\n",
              "      <td>108-3</td>\n",
              "      <td>1.0</td>\n",
              "      <td>Reciprocating</td>\n",
              "      <td>Personal</td>\n",
              "      <td>2.0</td>\n",
              "      <td>0.0</td>\n",
              "      <td>0.0</td>\n",
              "      <td>0.0</td>\n",
              "      <td>UNK</td>\n",
              "    </tr>\n",
              "    <tr>\n",
              "      <th>1</th>\n",
              "      <td>1</td>\n",
              "      <td>20001218X45447</td>\n",
              "      <td>Accident</td>\n",
              "      <td>1962-07-19</td>\n",
              "      <td>BRIDGEPORT, CA</td>\n",
              "      <td>United States</td>\n",
              "      <td>Fatal(4)</td>\n",
              "      <td>Destroyed</td>\n",
              "      <td>Piper</td>\n",
              "      <td>PA24-180</td>\n",
              "      <td>1.0</td>\n",
              "      <td>Reciprocating</td>\n",
              "      <td>Personal</td>\n",
              "      <td>4.0</td>\n",
              "      <td>0.0</td>\n",
              "      <td>0.0</td>\n",
              "      <td>0.0</td>\n",
              "      <td>UNK</td>\n",
              "    </tr>\n",
              "    <tr>\n",
              "      <th>2</th>\n",
              "      <td>2</td>\n",
              "      <td>20061025X01555</td>\n",
              "      <td>Accident</td>\n",
              "      <td>1974-08-30</td>\n",
              "      <td>Saltville, VA</td>\n",
              "      <td>United States</td>\n",
              "      <td>Fatal(3)</td>\n",
              "      <td>Destroyed</td>\n",
              "      <td>Cessna</td>\n",
              "      <td>172M</td>\n",
              "      <td>1.0</td>\n",
              "      <td>Reciprocating</td>\n",
              "      <td>Personal</td>\n",
              "      <td>3.0</td>\n",
              "      <td>NaN</td>\n",
              "      <td>NaN</td>\n",
              "      <td>NaN</td>\n",
              "      <td>IMC</td>\n",
              "    </tr>\n",
              "    <tr>\n",
              "      <th>3</th>\n",
              "      <td>3</td>\n",
              "      <td>20001218X45448</td>\n",
              "      <td>Accident</td>\n",
              "      <td>1977-06-19</td>\n",
              "      <td>EUREKA, CA</td>\n",
              "      <td>United States</td>\n",
              "      <td>Fatal(2)</td>\n",
              "      <td>Destroyed</td>\n",
              "      <td>Rockwell</td>\n",
              "      <td>112</td>\n",
              "      <td>1.0</td>\n",
              "      <td>Reciprocating</td>\n",
              "      <td>Personal</td>\n",
              "      <td>2.0</td>\n",
              "      <td>0.0</td>\n",
              "      <td>0.0</td>\n",
              "      <td>0.0</td>\n",
              "      <td>IMC</td>\n",
              "    </tr>\n",
              "    <tr>\n",
              "      <th>4</th>\n",
              "      <td>4</td>\n",
              "      <td>20041105X01764</td>\n",
              "      <td>Accident</td>\n",
              "      <td>1979-08-02</td>\n",
              "      <td>Canton, OH</td>\n",
              "      <td>United States</td>\n",
              "      <td>Fatal(1)</td>\n",
              "      <td>Destroyed</td>\n",
              "      <td>Cessna</td>\n",
              "      <td>501</td>\n",
              "      <td>NaN</td>\n",
              "      <td>NaN</td>\n",
              "      <td>Personal</td>\n",
              "      <td>1.0</td>\n",
              "      <td>2.0</td>\n",
              "      <td>NaN</td>\n",
              "      <td>0.0</td>\n",
              "      <td>VMC</td>\n",
              "    </tr>\n",
              "    <tr>\n",
              "      <th>...</th>\n",
              "      <td>...</td>\n",
              "      <td>...</td>\n",
              "      <td>...</td>\n",
              "      <td>...</td>\n",
              "      <td>...</td>\n",
              "      <td>...</td>\n",
              "      <td>...</td>\n",
              "      <td>...</td>\n",
              "      <td>...</td>\n",
              "      <td>...</td>\n",
              "      <td>...</td>\n",
              "      <td>...</td>\n",
              "      <td>...</td>\n",
              "      <td>...</td>\n",
              "      <td>...</td>\n",
              "      <td>...</td>\n",
              "      <td>...</td>\n",
              "      <td>...</td>\n",
              "    </tr>\n",
              "    <tr>\n",
              "      <th>88884</th>\n",
              "      <td>88884</td>\n",
              "      <td>20221227106491</td>\n",
              "      <td>Accident</td>\n",
              "      <td>2022-12-26</td>\n",
              "      <td>Annapolis, MD</td>\n",
              "      <td>United States</td>\n",
              "      <td>Minor</td>\n",
              "      <td>NaN</td>\n",
              "      <td>PIPER</td>\n",
              "      <td>PA-28-151</td>\n",
              "      <td>NaN</td>\n",
              "      <td>NaN</td>\n",
              "      <td>Personal</td>\n",
              "      <td>0.0</td>\n",
              "      <td>1.0</td>\n",
              "      <td>0.0</td>\n",
              "      <td>0.0</td>\n",
              "      <td>NaN</td>\n",
              "    </tr>\n",
              "    <tr>\n",
              "      <th>88885</th>\n",
              "      <td>88885</td>\n",
              "      <td>20221227106494</td>\n",
              "      <td>Accident</td>\n",
              "      <td>2022-12-26</td>\n",
              "      <td>Hampton, NH</td>\n",
              "      <td>United States</td>\n",
              "      <td>NaN</td>\n",
              "      <td>NaN</td>\n",
              "      <td>BELLANCA</td>\n",
              "      <td>7ECA</td>\n",
              "      <td>NaN</td>\n",
              "      <td>NaN</td>\n",
              "      <td>NaN</td>\n",
              "      <td>0.0</td>\n",
              "      <td>0.0</td>\n",
              "      <td>0.0</td>\n",
              "      <td>0.0</td>\n",
              "      <td>NaN</td>\n",
              "    </tr>\n",
              "    <tr>\n",
              "      <th>88886</th>\n",
              "      <td>88886</td>\n",
              "      <td>20221227106497</td>\n",
              "      <td>Accident</td>\n",
              "      <td>2022-12-26</td>\n",
              "      <td>Payson, AZ</td>\n",
              "      <td>United States</td>\n",
              "      <td>Non-Fatal</td>\n",
              "      <td>Substantial</td>\n",
              "      <td>AMERICAN CHAMPION AIRCRAFT</td>\n",
              "      <td>8GCBC</td>\n",
              "      <td>1.0</td>\n",
              "      <td>NaN</td>\n",
              "      <td>Personal</td>\n",
              "      <td>0.0</td>\n",
              "      <td>0.0</td>\n",
              "      <td>0.0</td>\n",
              "      <td>1.0</td>\n",
              "      <td>VMC</td>\n",
              "    </tr>\n",
              "    <tr>\n",
              "      <th>88887</th>\n",
              "      <td>88887</td>\n",
              "      <td>20221227106498</td>\n",
              "      <td>Accident</td>\n",
              "      <td>2022-12-26</td>\n",
              "      <td>Morgan, UT</td>\n",
              "      <td>United States</td>\n",
              "      <td>NaN</td>\n",
              "      <td>NaN</td>\n",
              "      <td>CESSNA</td>\n",
              "      <td>210N</td>\n",
              "      <td>NaN</td>\n",
              "      <td>NaN</td>\n",
              "      <td>Personal</td>\n",
              "      <td>0.0</td>\n",
              "      <td>0.0</td>\n",
              "      <td>0.0</td>\n",
              "      <td>0.0</td>\n",
              "      <td>NaN</td>\n",
              "    </tr>\n",
              "    <tr>\n",
              "      <th>88888</th>\n",
              "      <td>88888</td>\n",
              "      <td>20221230106513</td>\n",
              "      <td>Accident</td>\n",
              "      <td>2022-12-29</td>\n",
              "      <td>Athens, GA</td>\n",
              "      <td>United States</td>\n",
              "      <td>Minor</td>\n",
              "      <td>NaN</td>\n",
              "      <td>PIPER</td>\n",
              "      <td>PA-24-260</td>\n",
              "      <td>NaN</td>\n",
              "      <td>NaN</td>\n",
              "      <td>Personal</td>\n",
              "      <td>0.0</td>\n",
              "      <td>1.0</td>\n",
              "      <td>0.0</td>\n",
              "      <td>1.0</td>\n",
              "      <td>NaN</td>\n",
              "    </tr>\n",
              "  </tbody>\n",
              "</table>\n",
              "<p>88889 rows × 18 columns</p>\n",
              "</div>\n",
              "    <div class=\"colab-df-buttons\">\n",
              "\n",
              "  <div class=\"colab-df-container\">\n",
              "    <button class=\"colab-df-convert\" onclick=\"convertToInteractive('df-86dc9e1f-8748-460c-bf10-9bec55d8fbfb')\"\n",
              "            title=\"Convert this dataframe to an interactive table.\"\n",
              "            style=\"display:none;\">\n",
              "\n",
              "  <svg xmlns=\"http://www.w3.org/2000/svg\" height=\"24px\" viewBox=\"0 -960 960 960\">\n",
              "    <path d=\"M120-120v-720h720v720H120Zm60-500h600v-160H180v160Zm220 220h160v-160H400v160Zm0 220h160v-160H400v160ZM180-400h160v-160H180v160Zm440 0h160v-160H620v160ZM180-180h160v-160H180v160Zm440 0h160v-160H620v160Z\"/>\n",
              "  </svg>\n",
              "    </button>\n",
              "\n",
              "  <style>\n",
              "    .colab-df-container {\n",
              "      display:flex;\n",
              "      gap: 12px;\n",
              "    }\n",
              "\n",
              "    .colab-df-convert {\n",
              "      background-color: #E8F0FE;\n",
              "      border: none;\n",
              "      border-radius: 50%;\n",
              "      cursor: pointer;\n",
              "      display: none;\n",
              "      fill: #1967D2;\n",
              "      height: 32px;\n",
              "      padding: 0 0 0 0;\n",
              "      width: 32px;\n",
              "    }\n",
              "\n",
              "    .colab-df-convert:hover {\n",
              "      background-color: #E2EBFA;\n",
              "      box-shadow: 0px 1px 2px rgba(60, 64, 67, 0.3), 0px 1px 3px 1px rgba(60, 64, 67, 0.15);\n",
              "      fill: #174EA6;\n",
              "    }\n",
              "\n",
              "    .colab-df-buttons div {\n",
              "      margin-bottom: 4px;\n",
              "    }\n",
              "\n",
              "    [theme=dark] .colab-df-convert {\n",
              "      background-color: #3B4455;\n",
              "      fill: #D2E3FC;\n",
              "    }\n",
              "\n",
              "    [theme=dark] .colab-df-convert:hover {\n",
              "      background-color: #434B5C;\n",
              "      box-shadow: 0px 1px 3px 1px rgba(0, 0, 0, 0.15);\n",
              "      filter: drop-shadow(0px 1px 2px rgba(0, 0, 0, 0.3));\n",
              "      fill: #FFFFFF;\n",
              "    }\n",
              "  </style>\n",
              "\n",
              "    <script>\n",
              "      const buttonEl =\n",
              "        document.querySelector('#df-86dc9e1f-8748-460c-bf10-9bec55d8fbfb button.colab-df-convert');\n",
              "      buttonEl.style.display =\n",
              "        google.colab.kernel.accessAllowed ? 'block' : 'none';\n",
              "\n",
              "      async function convertToInteractive(key) {\n",
              "        const element = document.querySelector('#df-86dc9e1f-8748-460c-bf10-9bec55d8fbfb');\n",
              "        const dataTable =\n",
              "          await google.colab.kernel.invokeFunction('convertToInteractive',\n",
              "                                                    [key], {});\n",
              "        if (!dataTable) return;\n",
              "\n",
              "        const docLinkHtml = 'Like what you see? Visit the ' +\n",
              "          '<a target=\"_blank\" href=https://colab.research.google.com/notebooks/data_table.ipynb>data table notebook</a>'\n",
              "          + ' to learn more about interactive tables.';\n",
              "        element.innerHTML = '';\n",
              "        dataTable['output_type'] = 'display_data';\n",
              "        await google.colab.output.renderOutput(dataTable, element);\n",
              "        const docLink = document.createElement('div');\n",
              "        docLink.innerHTML = docLinkHtml;\n",
              "        element.appendChild(docLink);\n",
              "      }\n",
              "    </script>\n",
              "  </div>\n",
              "\n",
              "\n",
              "<div id=\"df-972a3269-a653-498e-8373-115fa784ea30\">\n",
              "  <button class=\"colab-df-quickchart\" onclick=\"quickchart('df-972a3269-a653-498e-8373-115fa784ea30')\"\n",
              "            title=\"Suggest charts.\"\n",
              "            style=\"display:none;\">\n",
              "\n",
              "<svg xmlns=\"http://www.w3.org/2000/svg\" height=\"24px\"viewBox=\"0 0 24 24\"\n",
              "     width=\"24px\">\n",
              "    <g>\n",
              "        <path d=\"M19 3H5c-1.1 0-2 .9-2 2v14c0 1.1.9 2 2 2h14c1.1 0 2-.9 2-2V5c0-1.1-.9-2-2-2zM9 17H7v-7h2v7zm4 0h-2V7h2v10zm4 0h-2v-4h2v4z\"/>\n",
              "    </g>\n",
              "</svg>\n",
              "  </button>\n",
              "\n",
              "<style>\n",
              "  .colab-df-quickchart {\n",
              "      --bg-color: #E8F0FE;\n",
              "      --fill-color: #1967D2;\n",
              "      --hover-bg-color: #E2EBFA;\n",
              "      --hover-fill-color: #174EA6;\n",
              "      --disabled-fill-color: #AAA;\n",
              "      --disabled-bg-color: #DDD;\n",
              "  }\n",
              "\n",
              "  [theme=dark] .colab-df-quickchart {\n",
              "      --bg-color: #3B4455;\n",
              "      --fill-color: #D2E3FC;\n",
              "      --hover-bg-color: #434B5C;\n",
              "      --hover-fill-color: #FFFFFF;\n",
              "      --disabled-bg-color: #3B4455;\n",
              "      --disabled-fill-color: #666;\n",
              "  }\n",
              "\n",
              "  .colab-df-quickchart {\n",
              "    background-color: var(--bg-color);\n",
              "    border: none;\n",
              "    border-radius: 50%;\n",
              "    cursor: pointer;\n",
              "    display: none;\n",
              "    fill: var(--fill-color);\n",
              "    height: 32px;\n",
              "    padding: 0;\n",
              "    width: 32px;\n",
              "  }\n",
              "\n",
              "  .colab-df-quickchart:hover {\n",
              "    background-color: var(--hover-bg-color);\n",
              "    box-shadow: 0 1px 2px rgba(60, 64, 67, 0.3), 0 1px 3px 1px rgba(60, 64, 67, 0.15);\n",
              "    fill: var(--button-hover-fill-color);\n",
              "  }\n",
              "\n",
              "  .colab-df-quickchart-complete:disabled,\n",
              "  .colab-df-quickchart-complete:disabled:hover {\n",
              "    background-color: var(--disabled-bg-color);\n",
              "    fill: var(--disabled-fill-color);\n",
              "    box-shadow: none;\n",
              "  }\n",
              "\n",
              "  .colab-df-spinner {\n",
              "    border: 2px solid var(--fill-color);\n",
              "    border-color: transparent;\n",
              "    border-bottom-color: var(--fill-color);\n",
              "    animation:\n",
              "      spin 1s steps(1) infinite;\n",
              "  }\n",
              "\n",
              "  @keyframes spin {\n",
              "    0% {\n",
              "      border-color: transparent;\n",
              "      border-bottom-color: var(--fill-color);\n",
              "      border-left-color: var(--fill-color);\n",
              "    }\n",
              "    20% {\n",
              "      border-color: transparent;\n",
              "      border-left-color: var(--fill-color);\n",
              "      border-top-color: var(--fill-color);\n",
              "    }\n",
              "    30% {\n",
              "      border-color: transparent;\n",
              "      border-left-color: var(--fill-color);\n",
              "      border-top-color: var(--fill-color);\n",
              "      border-right-color: var(--fill-color);\n",
              "    }\n",
              "    40% {\n",
              "      border-color: transparent;\n",
              "      border-right-color: var(--fill-color);\n",
              "      border-top-color: var(--fill-color);\n",
              "    }\n",
              "    60% {\n",
              "      border-color: transparent;\n",
              "      border-right-color: var(--fill-color);\n",
              "    }\n",
              "    80% {\n",
              "      border-color: transparent;\n",
              "      border-right-color: var(--fill-color);\n",
              "      border-bottom-color: var(--fill-color);\n",
              "    }\n",
              "    90% {\n",
              "      border-color: transparent;\n",
              "      border-bottom-color: var(--fill-color);\n",
              "    }\n",
              "  }\n",
              "</style>\n",
              "\n",
              "  <script>\n",
              "    async function quickchart(key) {\n",
              "      const quickchartButtonEl =\n",
              "        document.querySelector('#' + key + ' button');\n",
              "      quickchartButtonEl.disabled = true;  // To prevent multiple clicks.\n",
              "      quickchartButtonEl.classList.add('colab-df-spinner');\n",
              "      try {\n",
              "        const charts = await google.colab.kernel.invokeFunction(\n",
              "            'suggestCharts', [key], {});\n",
              "      } catch (error) {\n",
              "        console.error('Error during call to suggestCharts:', error);\n",
              "      }\n",
              "      quickchartButtonEl.classList.remove('colab-df-spinner');\n",
              "      quickchartButtonEl.classList.add('colab-df-quickchart-complete');\n",
              "    }\n",
              "    (() => {\n",
              "      let quickchartButtonEl =\n",
              "        document.querySelector('#df-972a3269-a653-498e-8373-115fa784ea30 button');\n",
              "      quickchartButtonEl.style.display =\n",
              "        google.colab.kernel.accessAllowed ? 'block' : 'none';\n",
              "    })();\n",
              "  </script>\n",
              "</div>\n",
              "    </div>\n",
              "  </div>\n"
            ]
          },
          "metadata": {},
          "execution_count": 36
        }
      ]
    },
    {
      "cell_type": "code",
      "source": [
        "df.info()\n"
      ],
      "metadata": {
        "colab": {
          "base_uri": "https://localhost:8080/"
        },
        "id": "LSrot-gD0cm4",
        "outputId": "88dcd9c9-9327-4068-fc4a-715a16324b75"
      },
      "execution_count": 37,
      "outputs": [
        {
          "output_type": "stream",
          "name": "stdout",
          "text": [
            "<class 'pandas.core.frame.DataFrame'>\n",
            "RangeIndex: 88889 entries, 0 to 88888\n",
            "Data columns (total 18 columns):\n",
            " #   Column                  Non-Null Count  Dtype  \n",
            "---  ------                  --------------  -----  \n",
            " 0   Unnamed: 0              88889 non-null  int64  \n",
            " 1   Event.Id                88889 non-null  object \n",
            " 2   Investigation.Type      88889 non-null  object \n",
            " 3   Event.Date              88889 non-null  object \n",
            " 4   Location                88837 non-null  object \n",
            " 5   Country                 88663 non-null  object \n",
            " 6   Injury.Severity         87889 non-null  object \n",
            " 7   Aircraft.damage         85695 non-null  object \n",
            " 8   Make                    88826 non-null  object \n",
            " 9   Model                   88797 non-null  object \n",
            " 10  Number.of.Engines       82805 non-null  float64\n",
            " 11  Engine.Type             81812 non-null  object \n",
            " 12  Purpose.of.flight       82697 non-null  object \n",
            " 13  Total.Fatal.Injuries    77488 non-null  float64\n",
            " 14  Total.Serious.Injuries  76379 non-null  float64\n",
            " 15  Total.Minor.Injuries    76956 non-null  float64\n",
            " 16  Total.Uninjured         82977 non-null  float64\n",
            " 17  Weather.Condition       84397 non-null  object \n",
            "dtypes: float64(5), int64(1), object(12)\n",
            "memory usage: 12.2+ MB\n"
          ]
        }
      ]
    },
    {
      "cell_type": "code",
      "source": [
        "df.describe()"
      ],
      "metadata": {
        "colab": {
          "base_uri": "https://localhost:8080/",
          "height": 300
        },
        "id": "wL5zLDbG06FD",
        "outputId": "8fdb4d71-7765-4761-e794-9a437e074a3d"
      },
      "execution_count": 38,
      "outputs": [
        {
          "output_type": "execute_result",
          "data": {
            "text/plain": [
              "         Unnamed: 0  Number.of.Engines  Total.Fatal.Injuries  \\\n",
              "count  88889.000000       82805.000000          77488.000000   \n",
              "mean   44444.000000           1.146585              0.647855   \n",
              "std    25660.188376           0.446510              5.485960   \n",
              "min        0.000000           0.000000              0.000000   \n",
              "25%    22222.000000           1.000000              0.000000   \n",
              "50%    44444.000000           1.000000              0.000000   \n",
              "75%    66666.000000           1.000000              0.000000   \n",
              "max    88888.000000           8.000000            349.000000   \n",
              "\n",
              "       Total.Serious.Injuries  Total.Minor.Injuries  Total.Uninjured  \n",
              "count            76379.000000          76956.000000     82977.000000  \n",
              "mean                 0.279881              0.357061         5.325440  \n",
              "std                  1.544084              2.235625        27.913634  \n",
              "min                  0.000000              0.000000         0.000000  \n",
              "25%                  0.000000              0.000000         0.000000  \n",
              "50%                  0.000000              0.000000         1.000000  \n",
              "75%                  0.000000              0.000000         2.000000  \n",
              "max                161.000000            380.000000       699.000000  "
            ],
            "text/html": [
              "\n",
              "  <div id=\"df-9f919cb3-7a9d-4b8d-abf7-068b3a6d33cb\" class=\"colab-df-container\">\n",
              "    <div>\n",
              "<style scoped>\n",
              "    .dataframe tbody tr th:only-of-type {\n",
              "        vertical-align: middle;\n",
              "    }\n",
              "\n",
              "    .dataframe tbody tr th {\n",
              "        vertical-align: top;\n",
              "    }\n",
              "\n",
              "    .dataframe thead th {\n",
              "        text-align: right;\n",
              "    }\n",
              "</style>\n",
              "<table border=\"1\" class=\"dataframe\">\n",
              "  <thead>\n",
              "    <tr style=\"text-align: right;\">\n",
              "      <th></th>\n",
              "      <th>Unnamed: 0</th>\n",
              "      <th>Number.of.Engines</th>\n",
              "      <th>Total.Fatal.Injuries</th>\n",
              "      <th>Total.Serious.Injuries</th>\n",
              "      <th>Total.Minor.Injuries</th>\n",
              "      <th>Total.Uninjured</th>\n",
              "    </tr>\n",
              "  </thead>\n",
              "  <tbody>\n",
              "    <tr>\n",
              "      <th>count</th>\n",
              "      <td>88889.000000</td>\n",
              "      <td>82805.000000</td>\n",
              "      <td>77488.000000</td>\n",
              "      <td>76379.000000</td>\n",
              "      <td>76956.000000</td>\n",
              "      <td>82977.000000</td>\n",
              "    </tr>\n",
              "    <tr>\n",
              "      <th>mean</th>\n",
              "      <td>44444.000000</td>\n",
              "      <td>1.146585</td>\n",
              "      <td>0.647855</td>\n",
              "      <td>0.279881</td>\n",
              "      <td>0.357061</td>\n",
              "      <td>5.325440</td>\n",
              "    </tr>\n",
              "    <tr>\n",
              "      <th>std</th>\n",
              "      <td>25660.188376</td>\n",
              "      <td>0.446510</td>\n",
              "      <td>5.485960</td>\n",
              "      <td>1.544084</td>\n",
              "      <td>2.235625</td>\n",
              "      <td>27.913634</td>\n",
              "    </tr>\n",
              "    <tr>\n",
              "      <th>min</th>\n",
              "      <td>0.000000</td>\n",
              "      <td>0.000000</td>\n",
              "      <td>0.000000</td>\n",
              "      <td>0.000000</td>\n",
              "      <td>0.000000</td>\n",
              "      <td>0.000000</td>\n",
              "    </tr>\n",
              "    <tr>\n",
              "      <th>25%</th>\n",
              "      <td>22222.000000</td>\n",
              "      <td>1.000000</td>\n",
              "      <td>0.000000</td>\n",
              "      <td>0.000000</td>\n",
              "      <td>0.000000</td>\n",
              "      <td>0.000000</td>\n",
              "    </tr>\n",
              "    <tr>\n",
              "      <th>50%</th>\n",
              "      <td>44444.000000</td>\n",
              "      <td>1.000000</td>\n",
              "      <td>0.000000</td>\n",
              "      <td>0.000000</td>\n",
              "      <td>0.000000</td>\n",
              "      <td>1.000000</td>\n",
              "    </tr>\n",
              "    <tr>\n",
              "      <th>75%</th>\n",
              "      <td>66666.000000</td>\n",
              "      <td>1.000000</td>\n",
              "      <td>0.000000</td>\n",
              "      <td>0.000000</td>\n",
              "      <td>0.000000</td>\n",
              "      <td>2.000000</td>\n",
              "    </tr>\n",
              "    <tr>\n",
              "      <th>max</th>\n",
              "      <td>88888.000000</td>\n",
              "      <td>8.000000</td>\n",
              "      <td>349.000000</td>\n",
              "      <td>161.000000</td>\n",
              "      <td>380.000000</td>\n",
              "      <td>699.000000</td>\n",
              "    </tr>\n",
              "  </tbody>\n",
              "</table>\n",
              "</div>\n",
              "    <div class=\"colab-df-buttons\">\n",
              "\n",
              "  <div class=\"colab-df-container\">\n",
              "    <button class=\"colab-df-convert\" onclick=\"convertToInteractive('df-9f919cb3-7a9d-4b8d-abf7-068b3a6d33cb')\"\n",
              "            title=\"Convert this dataframe to an interactive table.\"\n",
              "            style=\"display:none;\">\n",
              "\n",
              "  <svg xmlns=\"http://www.w3.org/2000/svg\" height=\"24px\" viewBox=\"0 -960 960 960\">\n",
              "    <path d=\"M120-120v-720h720v720H120Zm60-500h600v-160H180v160Zm220 220h160v-160H400v160Zm0 220h160v-160H400v160ZM180-400h160v-160H180v160Zm440 0h160v-160H620v160ZM180-180h160v-160H180v160Zm440 0h160v-160H620v160Z\"/>\n",
              "  </svg>\n",
              "    </button>\n",
              "\n",
              "  <style>\n",
              "    .colab-df-container {\n",
              "      display:flex;\n",
              "      gap: 12px;\n",
              "    }\n",
              "\n",
              "    .colab-df-convert {\n",
              "      background-color: #E8F0FE;\n",
              "      border: none;\n",
              "      border-radius: 50%;\n",
              "      cursor: pointer;\n",
              "      display: none;\n",
              "      fill: #1967D2;\n",
              "      height: 32px;\n",
              "      padding: 0 0 0 0;\n",
              "      width: 32px;\n",
              "    }\n",
              "\n",
              "    .colab-df-convert:hover {\n",
              "      background-color: #E2EBFA;\n",
              "      box-shadow: 0px 1px 2px rgba(60, 64, 67, 0.3), 0px 1px 3px 1px rgba(60, 64, 67, 0.15);\n",
              "      fill: #174EA6;\n",
              "    }\n",
              "\n",
              "    .colab-df-buttons div {\n",
              "      margin-bottom: 4px;\n",
              "    }\n",
              "\n",
              "    [theme=dark] .colab-df-convert {\n",
              "      background-color: #3B4455;\n",
              "      fill: #D2E3FC;\n",
              "    }\n",
              "\n",
              "    [theme=dark] .colab-df-convert:hover {\n",
              "      background-color: #434B5C;\n",
              "      box-shadow: 0px 1px 3px 1px rgba(0, 0, 0, 0.15);\n",
              "      filter: drop-shadow(0px 1px 2px rgba(0, 0, 0, 0.3));\n",
              "      fill: #FFFFFF;\n",
              "    }\n",
              "  </style>\n",
              "\n",
              "    <script>\n",
              "      const buttonEl =\n",
              "        document.querySelector('#df-9f919cb3-7a9d-4b8d-abf7-068b3a6d33cb button.colab-df-convert');\n",
              "      buttonEl.style.display =\n",
              "        google.colab.kernel.accessAllowed ? 'block' : 'none';\n",
              "\n",
              "      async function convertToInteractive(key) {\n",
              "        const element = document.querySelector('#df-9f919cb3-7a9d-4b8d-abf7-068b3a6d33cb');\n",
              "        const dataTable =\n",
              "          await google.colab.kernel.invokeFunction('convertToInteractive',\n",
              "                                                    [key], {});\n",
              "        if (!dataTable) return;\n",
              "\n",
              "        const docLinkHtml = 'Like what you see? Visit the ' +\n",
              "          '<a target=\"_blank\" href=https://colab.research.google.com/notebooks/data_table.ipynb>data table notebook</a>'\n",
              "          + ' to learn more about interactive tables.';\n",
              "        element.innerHTML = '';\n",
              "        dataTable['output_type'] = 'display_data';\n",
              "        await google.colab.output.renderOutput(dataTable, element);\n",
              "        const docLink = document.createElement('div');\n",
              "        docLink.innerHTML = docLinkHtml;\n",
              "        element.appendChild(docLink);\n",
              "      }\n",
              "    </script>\n",
              "  </div>\n",
              "\n",
              "\n",
              "<div id=\"df-246d412a-1dc7-47c6-9eba-3ac9fb1270cd\">\n",
              "  <button class=\"colab-df-quickchart\" onclick=\"quickchart('df-246d412a-1dc7-47c6-9eba-3ac9fb1270cd')\"\n",
              "            title=\"Suggest charts.\"\n",
              "            style=\"display:none;\">\n",
              "\n",
              "<svg xmlns=\"http://www.w3.org/2000/svg\" height=\"24px\"viewBox=\"0 0 24 24\"\n",
              "     width=\"24px\">\n",
              "    <g>\n",
              "        <path d=\"M19 3H5c-1.1 0-2 .9-2 2v14c0 1.1.9 2 2 2h14c1.1 0 2-.9 2-2V5c0-1.1-.9-2-2-2zM9 17H7v-7h2v7zm4 0h-2V7h2v10zm4 0h-2v-4h2v4z\"/>\n",
              "    </g>\n",
              "</svg>\n",
              "  </button>\n",
              "\n",
              "<style>\n",
              "  .colab-df-quickchart {\n",
              "      --bg-color: #E8F0FE;\n",
              "      --fill-color: #1967D2;\n",
              "      --hover-bg-color: #E2EBFA;\n",
              "      --hover-fill-color: #174EA6;\n",
              "      --disabled-fill-color: #AAA;\n",
              "      --disabled-bg-color: #DDD;\n",
              "  }\n",
              "\n",
              "  [theme=dark] .colab-df-quickchart {\n",
              "      --bg-color: #3B4455;\n",
              "      --fill-color: #D2E3FC;\n",
              "      --hover-bg-color: #434B5C;\n",
              "      --hover-fill-color: #FFFFFF;\n",
              "      --disabled-bg-color: #3B4455;\n",
              "      --disabled-fill-color: #666;\n",
              "  }\n",
              "\n",
              "  .colab-df-quickchart {\n",
              "    background-color: var(--bg-color);\n",
              "    border: none;\n",
              "    border-radius: 50%;\n",
              "    cursor: pointer;\n",
              "    display: none;\n",
              "    fill: var(--fill-color);\n",
              "    height: 32px;\n",
              "    padding: 0;\n",
              "    width: 32px;\n",
              "  }\n",
              "\n",
              "  .colab-df-quickchart:hover {\n",
              "    background-color: var(--hover-bg-color);\n",
              "    box-shadow: 0 1px 2px rgba(60, 64, 67, 0.3), 0 1px 3px 1px rgba(60, 64, 67, 0.15);\n",
              "    fill: var(--button-hover-fill-color);\n",
              "  }\n",
              "\n",
              "  .colab-df-quickchart-complete:disabled,\n",
              "  .colab-df-quickchart-complete:disabled:hover {\n",
              "    background-color: var(--disabled-bg-color);\n",
              "    fill: var(--disabled-fill-color);\n",
              "    box-shadow: none;\n",
              "  }\n",
              "\n",
              "  .colab-df-spinner {\n",
              "    border: 2px solid var(--fill-color);\n",
              "    border-color: transparent;\n",
              "    border-bottom-color: var(--fill-color);\n",
              "    animation:\n",
              "      spin 1s steps(1) infinite;\n",
              "  }\n",
              "\n",
              "  @keyframes spin {\n",
              "    0% {\n",
              "      border-color: transparent;\n",
              "      border-bottom-color: var(--fill-color);\n",
              "      border-left-color: var(--fill-color);\n",
              "    }\n",
              "    20% {\n",
              "      border-color: transparent;\n",
              "      border-left-color: var(--fill-color);\n",
              "      border-top-color: var(--fill-color);\n",
              "    }\n",
              "    30% {\n",
              "      border-color: transparent;\n",
              "      border-left-color: var(--fill-color);\n",
              "      border-top-color: var(--fill-color);\n",
              "      border-right-color: var(--fill-color);\n",
              "    }\n",
              "    40% {\n",
              "      border-color: transparent;\n",
              "      border-right-color: var(--fill-color);\n",
              "      border-top-color: var(--fill-color);\n",
              "    }\n",
              "    60% {\n",
              "      border-color: transparent;\n",
              "      border-right-color: var(--fill-color);\n",
              "    }\n",
              "    80% {\n",
              "      border-color: transparent;\n",
              "      border-right-color: var(--fill-color);\n",
              "      border-bottom-color: var(--fill-color);\n",
              "    }\n",
              "    90% {\n",
              "      border-color: transparent;\n",
              "      border-bottom-color: var(--fill-color);\n",
              "    }\n",
              "  }\n",
              "</style>\n",
              "\n",
              "  <script>\n",
              "    async function quickchart(key) {\n",
              "      const quickchartButtonEl =\n",
              "        document.querySelector('#' + key + ' button');\n",
              "      quickchartButtonEl.disabled = true;  // To prevent multiple clicks.\n",
              "      quickchartButtonEl.classList.add('colab-df-spinner');\n",
              "      try {\n",
              "        const charts = await google.colab.kernel.invokeFunction(\n",
              "            'suggestCharts', [key], {});\n",
              "      } catch (error) {\n",
              "        console.error('Error during call to suggestCharts:', error);\n",
              "      }\n",
              "      quickchartButtonEl.classList.remove('colab-df-spinner');\n",
              "      quickchartButtonEl.classList.add('colab-df-quickchart-complete');\n",
              "    }\n",
              "    (() => {\n",
              "      let quickchartButtonEl =\n",
              "        document.querySelector('#df-246d412a-1dc7-47c6-9eba-3ac9fb1270cd button');\n",
              "      quickchartButtonEl.style.display =\n",
              "        google.colab.kernel.accessAllowed ? 'block' : 'none';\n",
              "    })();\n",
              "  </script>\n",
              "</div>\n",
              "    </div>\n",
              "  </div>\n"
            ]
          },
          "metadata": {},
          "execution_count": 38
        }
      ]
    },
    {
      "cell_type": "code",
      "source": [
        "df.shape"
      ],
      "metadata": {
        "colab": {
          "base_uri": "https://localhost:8080/"
        },
        "id": "b2Mt5Kbu2QjN",
        "outputId": "a4dc0773-7117-4f35-adbe-79fff3f87491"
      },
      "execution_count": 39,
      "outputs": [
        {
          "output_type": "execute_result",
          "data": {
            "text/plain": [
              "(88889, 18)"
            ]
          },
          "metadata": {},
          "execution_count": 39
        }
      ]
    },
    {
      "cell_type": "code",
      "source": [
        "a = {}\n",
        "a['Investigation.Type']=df['Investigation.Type'].value_counts()\n",
        "a"
      ],
      "metadata": {
        "colab": {
          "base_uri": "https://localhost:8080/"
        },
        "id": "3APQNnc3050C",
        "outputId": "ad027339-0c33-486c-ccb7-51a0bf1e3996"
      },
      "execution_count": 40,
      "outputs": [
        {
          "output_type": "execute_result",
          "data": {
            "text/plain": [
              "{'Investigation.Type': Accident    85015\n",
              " Incident     3874\n",
              " Name: Investigation.Type, dtype: int64}"
            ]
          },
          "metadata": {},
          "execution_count": 40
        }
      ]
    },
    {
      "cell_type": "code",
      "source": [
        "# distinct = {}\n",
        "# for x in df.columns:\n",
        "#   distinct[x]=df[x].value_counts()\n",
        "\n",
        "# del distinct['Event.Id']\n",
        "# del distinct['Event.Date']\n",
        "# for i in distinct:\n",
        "#   print(i , distinct[i])\n",
        "#   print(\"-\"*30)inct['Unnamed: 0']\n",
        "# del dist\n"
      ],
      "metadata": {
        "id": "9-uBogXd1McV"
      },
      "execution_count": 41,
      "outputs": []
    },
    {
      "cell_type": "markdown",
      "source": [
        "**identify and remove or chaange the null values**"
      ],
      "metadata": {
        "id": "lOtQYshgoLiw"
      }
    },
    {
      "cell_type": "code",
      "source": [
        "missing_data = df.isna().sum()*100/len(df)\n",
        "missing_data[missing_data !=0].plot(kind='barh')\n"
      ],
      "metadata": {
        "colab": {
          "base_uri": "https://localhost:8080/",
          "height": 447
        },
        "id": "uW2LoDZc1MY0",
        "outputId": "a4fecbd2-ef04-4130-d644-f2333567e50f"
      },
      "execution_count": 42,
      "outputs": [
        {
          "output_type": "execute_result",
          "data": {
            "text/plain": [
              "<Axes: >"
            ]
          },
          "metadata": {},
          "execution_count": 42
        },
        {
          "output_type": "display_data",
          "data": {
            "text/plain": [
              "<Figure size 640x480 with 1 Axes>"
            ],
            "image/png": "[encoded data removed]"
          },
          "metadata": {}
        }
      ]
    },
    {
      "cell_type": "markdown",
      "source": [
        "## Can Be Removed\n",
        "\n",
        "*   Total.Serious.Injuries\n",
        "*   Total.Minor.Injuries\n",
        "*   Total.Fatal.Injuries\n"
      ],
      "metadata": {
        "id": "1UEiL3bUqH7b"
      }
    },
    {
      "cell_type": "code",
      "source": [
        "countries = df.Country.unique()\n",
        "countries_by_accidents=df.Country.value_counts()\n",
        "countries_by_accidents"
      ],
      "metadata": {
        "colab": {
          "base_uri": "https://localhost:8080/"
        },
        "id": "uGdmPw1LmIxC",
        "outputId": "a6eb456d-5624-438f-cae5-e54416651acd"
      },
      "execution_count": 43,
      "outputs": [
        {
          "output_type": "execute_result",
          "data": {
            "text/plain": [
              "United States                       82248\n",
              "Brazil                                374\n",
              "Canada                                359\n",
              "Mexico                                358\n",
              "United Kingdom                        344\n",
              "                                    ...  \n",
              "Seychelles                              1\n",
              "Palau                                   1\n",
              "Libya                                   1\n",
              "Saint Vincent and the Grenadines        1\n",
              "Turks and Caicos Islands                1\n",
              "Name: Country, Length: 219, dtype: int64"
            ]
          },
          "metadata": {},
          "execution_count": 43
        }
      ]
    },
    {
      "cell_type": "code",
      "source": [
        "location_by_accidents=df.Location.value_counts()\n",
        "location_by_accidents[:10]\n"
      ],
      "metadata": {
        "colab": {
          "base_uri": "https://localhost:8080/"
        },
        "id": "LY8fR2HjmImn",
        "outputId": "9798c915-b9a0-4c9f-850e-060f8959cd4c"
      },
      "execution_count": 44,
      "outputs": [
        {
          "output_type": "execute_result",
          "data": {
            "text/plain": [
              "ANCHORAGE, AK      434\n",
              "MIAMI, FL          200\n",
              "ALBUQUERQUE, NM    196\n",
              "HOUSTON, TX        193\n",
              "CHICAGO, IL        184\n",
              "FAIRBANKS, AK      174\n",
              "TUCSON, AZ         142\n",
              "PHOENIX, AZ        132\n",
              "ORLANDO, FL        132\n",
              "ENGLEWOOD, CO      131\n",
              "Name: Location, dtype: int64"
            ]
          },
          "metadata": {},
          "execution_count": 44
        }
      ]
    },
    {
      "cell_type": "code",
      "source": [
        "location_by_accidents.plot()"
      ],
      "metadata": {
        "colab": {
          "base_uri": "https://localhost:8080/",
          "height": 447
        },
        "id": "x3aIII6i5e3n",
        "outputId": "00558f40-4bef-4936-ef87-624a59e996f9"
      },
      "execution_count": 45,
      "outputs": [
        {
          "output_type": "execute_result",
          "data": {
            "text/plain": [
              "<Axes: >"
            ]
          },
          "metadata": {},
          "execution_count": 45
        },
        {
          "output_type": "display_data",
          "data": {
            "text/plain": [
              "<Figure size 640x480 with 1 Axes>"
            ],
            "image/png": "[encoded data removed]"
          },
          "metadata": {}
        }
      ]
    },
    {
      "cell_type": "code",
      "source": [
        "high_risk_location = location_by_accidents[location_by_accidents>25]\n",
        "high_risk_location.plot()\n",
        "sns.displot(high_risk_location,log_scale = True)\n"
      ],
      "metadata": {
        "colab": {
          "base_uri": "https://localhost:8080/",
          "height": 938
        },
        "id": "H9FYUgFXmIaN",
        "outputId": "0e0e646a-26f7-4ca2-ba34-0e990852bf9d"
      },
      "execution_count": 46,
      "outputs": [
        {
          "output_type": "execute_result",
          "data": {
            "text/plain": [
              "<seaborn.axisgrid.FacetGrid at 0x79e545691d80>"
            ]
          },
          "metadata": {},
          "execution_count": 46
        },
        {
          "output_type": "display_data",
          "data": {
            "text/plain": [
              "<Figure size 640x480 with 1 Axes>"
            ],
            "image/png": "[encoded data removed]"
          },
          "metadata": {}
        },
        {
          "output_type": "display_data",
          "data": {
            "text/plain": [
              "<Figure size 500x500 with 1 Axes>"
            ],
            "image/png": "[encoded data removed]"
          },
          "metadata": {}
        }
      ]
    },
    {
      "cell_type": "markdown",
      "source": [
        "#"
      ],
      "metadata": {
        "id": "Uc4I_roE3lco"
      }
    },
    {
      "cell_type": "code",
      "source": [
        "# Split location in city and state\n",
        "df['City'] = df['Location'].str.split(',').str[0]\n",
        "df['State'] = df['Location'].str.split(',').str[1]\n",
        "df[['City', 'State']].head(10)"
      ],
      "metadata": {
        "colab": {
          "base_uri": "https://localhost:8080/",
          "height": 363
        },
        "id": "kC6i-gK63k6g",
        "outputId": "83db9b48-3bc9-42aa-b4d5-cf248845e99f"
      },
      "execution_count": 47,
      "outputs": [
        {
          "output_type": "execute_result",
          "data": {
            "text/plain": [
              "           City State\n",
              "0   MOOSE CREEK    ID\n",
              "1    BRIDGEPORT    CA\n",
              "2     Saltville    VA\n",
              "3        EUREKA    CA\n",
              "4        Canton    OH\n",
              "5        BOSTON    MA\n",
              "6        COTTON    MN\n",
              "7       PULLMAN    WA\n",
              "8  EAST HANOVER    NJ\n",
              "9  JACKSONVILLE    FL"
            ],
            "text/html": [
              "\n",
              "  <div id=\"df-b103307f-1a11-4f6b-94ab-f696e615c37b\" class=\"colab-df-container\">\n",
              "    <div>\n",
              "<style scoped>\n",
              "    .dataframe tbody tr th:only-of-type {\n",
              "        vertical-align: middle;\n",
              "    }\n",
              "\n",
              "    .dataframe tbody tr th {\n",
              "        vertical-align: top;\n",
              "    }\n",
              "\n",
              "    .dataframe thead th {\n",
              "        text-align: right;\n",
              "    }\n",
              "</style>\n",
              "<table border=\"1\" class=\"dataframe\">\n",
              "  <thead>\n",
              "    <tr style=\"text-align: right;\">\n",
              "      <th></th>\n",
              "      <th>City</th>\n",
              "      <th>State</th>\n",
              "    </tr>\n",
              "  </thead>\n",
              "  <tbody>\n",
              "    <tr>\n",
              "      <th>0</th>\n",
              "      <td>MOOSE CREEK</td>\n",
              "      <td>ID</td>\n",
              "    </tr>\n",
              "    <tr>\n",
              "      <th>1</th>\n",
              "      <td>BRIDGEPORT</td>\n",
              "      <td>CA</td>\n",
              "    </tr>\n",
              "    <tr>\n",
              "      <th>2</th>\n",
              "      <td>Saltville</td>\n",
              "      <td>VA</td>\n",
              "    </tr>\n",
              "    <tr>\n",
              "      <th>3</th>\n",
              "      <td>EUREKA</td>\n",
              "      <td>CA</td>\n",
              "    </tr>\n",
              "    <tr>\n",
              "      <th>4</th>\n",
              "      <td>Canton</td>\n",
              "      <td>OH</td>\n",
              "    </tr>\n",
              "    <tr>\n",
              "      <th>5</th>\n",
              "      <td>BOSTON</td>\n",
              "      <td>MA</td>\n",
              "    </tr>\n",
              "    <tr>\n",
              "      <th>6</th>\n",
              "      <td>COTTON</td>\n",
              "      <td>MN</td>\n",
              "    </tr>\n",
              "    <tr>\n",
              "      <th>7</th>\n",
              "      <td>PULLMAN</td>\n",
              "      <td>WA</td>\n",
              "    </tr>\n",
              "    <tr>\n",
              "      <th>8</th>\n",
              "      <td>EAST HANOVER</td>\n",
              "      <td>NJ</td>\n",
              "    </tr>\n",
              "    <tr>\n",
              "      <th>9</th>\n",
              "      <td>JACKSONVILLE</td>\n",
              "      <td>FL</td>\n",
              "    </tr>\n",
              "  </tbody>\n",
              "</table>\n",
              "</div>\n",
              "    <div class=\"colab-df-buttons\">\n",
              "\n",
              "  <div class=\"colab-df-container\">\n",
              "    <button class=\"colab-df-convert\" onclick=\"convertToInteractive('df-b103307f-1a11-4f6b-94ab-f696e615c37b')\"\n",
              "            title=\"Convert this dataframe to an interactive table.\"\n",
              "            style=\"display:none;\">\n",
              "\n",
              "  <svg xmlns=\"http://www.w3.org/2000/svg\" height=\"24px\" viewBox=\"0 -960 960 960\">\n",
              "    <path d=\"M120-120v-720h720v720H120Zm60-500h600v-160H180v160Zm220 220h160v-160H400v160Zm0 220h160v-160H400v160ZM180-400h160v-160H180v160Zm440 0h160v-160H620v160ZM180-180h160v-160H180v160Zm440 0h160v-160H620v160Z\"/>\n",
              "  </svg>\n",
              "    </button>\n",
              "\n",
              "  <style>\n",
              "    .colab-df-container {\n",
              "      display:flex;\n",
              "      gap: 12px;\n",
              "    }\n",
              "\n",
              "    .colab-df-convert {\n",
              "      background-color: #E8F0FE;\n",
              "      border: none;\n",
              "      border-radius: 50%;\n",
              "      cursor: pointer;\n",
              "      display: none;\n",
              "      fill: #1967D2;\n",
              "      height: 32px;\n",
              "      padding: 0 0 0 0;\n",
              "      width: 32px;\n",
              "    }\n",
              "\n",
              "    .colab-df-convert:hover {\n",
              "      background-color: #E2EBFA;\n",
              "      box-shadow: 0px 1px 2px rgba(60, 64, 67, 0.3), 0px 1px 3px 1px rgba(60, 64, 67, 0.15);\n",
              "      fill: #174EA6;\n",
              "    }\n",
              "\n",
              "    .colab-df-buttons div {\n",
              "      margin-bottom: 4px;\n",
              "    }\n",
              "\n",
              "    [theme=dark] .colab-df-convert {\n",
              "      background-color: #3B4455;\n",
              "      fill: #D2E3FC;\n",
              "    }\n",
              "\n",
              "    [theme=dark] .colab-df-convert:hover {\n",
              "      background-color: #434B5C;\n",
              "      box-shadow: 0px 1px 3px 1px rgba(0, 0, 0, 0.15);\n",
              "      filter: drop-shadow(0px 1px 2px rgba(0, 0, 0, 0.3));\n",
              "      fill: #FFFFFF;\n",
              "    }\n",
              "  </style>\n",
              "\n",
              "    <script>\n",
              "      const buttonEl =\n",
              "        document.querySelector('#df-b103307f-1a11-4f6b-94ab-f696e615c37b button.colab-df-convert');\n",
              "      buttonEl.style.display =\n",
              "        google.colab.kernel.accessAllowed ? 'block' : 'none';\n",
              "\n",
              "      async function convertToInteractive(key) {\n",
              "        const element = document.querySelector('#df-b103307f-1a11-4f6b-94ab-f696e615c37b');\n",
              "        const dataTable =\n",
              "          await google.colab.kernel.invokeFunction('convertToInteractive',\n",
              "                                                    [key], {});\n",
              "        if (!dataTable) return;\n",
              "\n",
              "        const docLinkHtml = 'Like what you see? Visit the ' +\n",
              "          '<a target=\"_blank\" href=https://colab.research.google.com/notebooks/data_table.ipynb>data table notebook</a>'\n",
              "          + ' to learn more about interactive tables.';\n",
              "        element.innerHTML = '';\n",
              "        dataTable['output_type'] = 'display_data';\n",
              "        await google.colab.output.renderOutput(dataTable, element);\n",
              "        const docLink = document.createElement('div');\n",
              "        docLink.innerHTML = docLinkHtml;\n",
              "        element.appendChild(docLink);\n",
              "      }\n",
              "    </script>\n",
              "  </div>\n",
              "\n",
              "\n",
              "<div id=\"df-505a7ebc-e304-461d-bb14-aa3750624cfc\">\n",
              "  <button class=\"colab-df-quickchart\" onclick=\"quickchart('df-505a7ebc-e304-461d-bb14-aa3750624cfc')\"\n",
              "            title=\"Suggest charts.\"\n",
              "            style=\"display:none;\">\n",
              "\n",
              "<svg xmlns=\"http://www.w3.org/2000/svg\" height=\"24px\"viewBox=\"0 0 24 24\"\n",
              "     width=\"24px\">\n",
              "    <g>\n",
              "        <path d=\"M19 3H5c-1.1 0-2 .9-2 2v14c0 1.1.9 2 2 2h14c1.1 0 2-.9 2-2V5c0-1.1-.9-2-2-2zM9 17H7v-7h2v7zm4 0h-2V7h2v10zm4 0h-2v-4h2v4z\"/>\n",
              "    </g>\n",
              "</svg>\n",
              "  </button>\n",
              "\n",
              "<style>\n",
              "  .colab-df-quickchart {\n",
              "      --bg-color: #E8F0FE;\n",
              "      --fill-color: #1967D2;\n",
              "      --hover-bg-color: #E2EBFA;\n",
              "      --hover-fill-color: #174EA6;\n",
              "      --disabled-fill-color: #AAA;\n",
              "      --disabled-bg-color: #DDD;\n",
              "  }\n",
              "\n",
              "  [theme=dark] .colab-df-quickchart {\n",
              "      --bg-color: #3B4455;\n",
              "      --fill-color: #D2E3FC;\n",
              "      --hover-bg-color: #434B5C;\n",
              "      --hover-fill-color: #FFFFFF;\n",
              "      --disabled-bg-color: #3B4455;\n",
              "      --disabled-fill-color: #666;\n",
              "  }\n",
              "\n",
              "  .colab-df-quickchart {\n",
              "    background-color: var(--bg-color);\n",
              "    border: none;\n",
              "    border-radius: 50%;\n",
              "    cursor: pointer;\n",
              "    display: none;\n",
              "    fill: var(--fill-color);\n",
              "    height: 32px;\n",
              "    padding: 0;\n",
              "    width: 32px;\n",
              "  }\n",
              "\n",
              "  .colab-df-quickchart:hover {\n",
              "    background-color: var(--hover-bg-color);\n",
              "    box-shadow: 0 1px 2px rgba(60, 64, 67, 0.3), 0 1px 3px 1px rgba(60, 64, 67, 0.15);\n",
              "    fill: var(--button-hover-fill-color);\n",
              "  }\n",
              "\n",
              "  .colab-df-quickchart-complete:disabled,\n",
              "  .colab-df-quickchart-complete:disabled:hover {\n",
              "    background-color: var(--disabled-bg-color);\n",
              "    fill: var(--disabled-fill-color);\n",
              "    box-shadow: none;\n",
              "  }\n",
              "\n",
              "  .colab-df-spinner {\n",
              "    border: 2px solid var(--fill-color);\n",
              "    border-color: transparent;\n",
              "    border-bottom-color: var(--fill-color);\n",
              "    animation:\n",
              "      spin 1s steps(1) infinite;\n",
              "  }\n",
              "\n",
              "  @keyframes spin {\n",
              "    0% {\n",
              "      border-color: transparent;\n",
              "      border-bottom-color: var(--fill-color);\n",
              "      border-left-color: var(--fill-color);\n",
              "    }\n",
              "    20% {\n",
              "      border-color: transparent;\n",
              "      border-left-color: var(--fill-color);\n",
              "      border-top-color: var(--fill-color);\n",
              "    }\n",
              "    30% {\n",
              "      border-color: transparent;\n",
              "      border-left-color: var(--fill-color);\n",
              "      border-top-color: var(--fill-color);\n",
              "      border-right-color: var(--fill-color);\n",
              "    }\n",
              "    40% {\n",
              "      border-color: transparent;\n",
              "      border-right-color: var(--fill-color);\n",
              "      border-top-color: var(--fill-color);\n",
              "    }\n",
              "    60% {\n",
              "      border-color: transparent;\n",
              "      border-right-color: var(--fill-color);\n",
              "    }\n",
              "    80% {\n",
              "      border-color: transparent;\n",
              "      border-right-color: var(--fill-color);\n",
              "      border-bottom-color: var(--fill-color);\n",
              "    }\n",
              "    90% {\n",
              "      border-color: transparent;\n",
              "      border-bottom-color: var(--fill-color);\n",
              "    }\n",
              "  }\n",
              "</style>\n",
              "\n",
              "  <script>\n",
              "    async function quickchart(key) {\n",
              "      const quickchartButtonEl =\n",
              "        document.querySelector('#' + key + ' button');\n",
              "      quickchartButtonEl.disabled = true;  // To prevent multiple clicks.\n",
              "      quickchartButtonEl.classList.add('colab-df-spinner');\n",
              "      try {\n",
              "        const charts = await google.colab.kernel.invokeFunction(\n",
              "            'suggestCharts', [key], {});\n",
              "      } catch (error) {\n",
              "        console.error('Error during call to suggestCharts:', error);\n",
              "      }\n",
              "      quickchartButtonEl.classList.remove('colab-df-spinner');\n",
              "      quickchartButtonEl.classList.add('colab-df-quickchart-complete');\n",
              "    }\n",
              "    (() => {\n",
              "      let quickchartButtonEl =\n",
              "        document.querySelector('#df-505a7ebc-e304-461d-bb14-aa3750624cfc button');\n",
              "      quickchartButtonEl.style.display =\n",
              "        google.colab.kernel.accessAllowed ? 'block' : 'none';\n",
              "    })();\n",
              "  </script>\n",
              "</div>\n",
              "    </div>\n",
              "  </div>\n"
            ]
          },
          "metadata": {},
          "execution_count": 47
        }
      ]
    },
    {
      "cell_type": "code",
      "source": [
        "# visualization by state\n",
        "states = df['State'].value_counts().sort_values(ascending = False)\n",
        "top_states = states[:10]\n",
        "#print(top_states)\n",
        "top_states.plot(kind='barh')\n"
      ],
      "metadata": {
        "colab": {
          "base_uri": "https://localhost:8080/",
          "height": 447
        },
        "id": "X9WcN1TD3k3Y",
        "outputId": "c89ae9ce-3151-4a18-baff-c2120a18edff"
      },
      "execution_count": 48,
      "outputs": [
        {
          "output_type": "execute_result",
          "data": {
            "text/plain": [
              "<Axes: >"
            ]
          },
          "metadata": {},
          "execution_count": 48
        },
        {
          "output_type": "display_data",
          "data": {
            "text/plain": [
              "<Figure size 640x480 with 1 Axes>"
            ],
            "image/png": "[encoded data removed]"
          },
          "metadata": {}
        }
      ]
    },
    {
      "cell_type": "markdown",
      "source": [
        "# **Most Accidents**\n",
        "\n",
        "\n",
        "1.   CA\n",
        "2.   TX\n",
        "3.   FL\n",
        "4.   AK\n",
        "\n",
        "## Comparision with population\n",
        "#### most populated states from google\n",
        "\n",
        "\n",
        "1.   CA\n",
        "2.   TX\n",
        "3.   FL\n",
        "4.   List item\n",
        "\n",
        "\n",
        "\n",
        "\n"
      ],
      "metadata": {
        "id": "K-v5vKBoWdcD"
      }
    },
    {
      "cell_type": "markdown",
      "source": [],
      "metadata": {
        "id": "9f1jxyEIX_o9"
      }
    },
    {
      "cell_type": "code",
      "source": [],
      "metadata": {
        "id": "qptt3ZwcWcQP"
      },
      "execution_count": 48,
      "outputs": []
    },
    {
      "cell_type": "code",
      "source": [],
      "metadata": {
        "id": "GsHWKZ3X3k14"
      },
      "execution_count": 48,
      "outputs": []
    },
    {
      "cell_type": "code",
      "source": [],
      "metadata": {
        "id": "CKhPSphX3kx4"
      },
      "execution_count": 48,
      "outputs": []
    },
    {
      "cell_type": "markdown",
      "source": [],
      "metadata": {
        "id": "QoK8dG4avsNF"
      }
    },
    {
      "cell_type": "markdown",
      "source": [],
      "metadata": {
        "id": "Y32h2m2x04JN"
      }
    },
    {
      "cell_type": "markdown",
      "source": [
        "## **Fatal **"
      ],
      "metadata": {
        "id": "iujcREfS7U4i"
      }
    },
    {
      "cell_type": "markdown",
      "source": [],
      "metadata": {
        "id": "fw4NJJLu7U1I"
      }
    },
    {
      "cell_type": "markdown",
      "source": [],
      "metadata": {
        "id": "jAmqPPij7Uyp"
      }
    },
    {
      "cell_type": "markdown",
      "source": [],
      "metadata": {
        "id": "6yIdAsI87Uwd"
      }
    },
    {
      "cell_type": "markdown",
      "source": [],
      "metadata": {
        "id": "B5p69FV37Utn"
      }
    },
    {
      "cell_type": "markdown",
      "source": [],
      "metadata": {
        "id": "9x8duSJU7UrN"
      }
    },
    {
      "cell_type": "markdown",
      "source": [],
      "metadata": {
        "id": "cuepGNQm7Uox"
      }
    },
    {
      "cell_type": "markdown",
      "source": [
        "# Exploring Ppurpose"
      ],
      "metadata": {
        "id": "MBRvCJGP7Ume"
      }
    },
    {
      "cell_type": "code",
      "source": [
        "total_purpose = df['Purpose.of.flight'].value_counts()\n",
        "print(total_purpose)"
      ],
      "metadata": {
        "colab": {
          "base_uri": "https://localhost:8080/"
        },
        "id": "BJKLz4gg7Vv5",
        "outputId": "4ca5bc94-d9b2-4158-890b-a502317c4100"
      },
      "execution_count": 49,
      "outputs": [
        {
          "output_type": "stream",
          "name": "stdout",
          "text": [
            "Personal                     49448\n",
            "Instructional                10601\n",
            "Unknown                       6802\n",
            "Aerial Application            4712\n",
            "Business                      4018\n",
            "Positioning                   1646\n",
            "Other Work Use                1264\n",
            "Ferry                          812\n",
            "Aerial Observation             794\n",
            "Public Aircraft                720\n",
            "Executive/corporate            553\n",
            "Flight Test                    405\n",
            "Skydiving                      182\n",
            "External Load                  123\n",
            "Public Aircraft - Federal      105\n",
            "Banner Tow                     101\n",
            "Air Race show                   99\n",
            "Public Aircraft - Local         74\n",
            "Public Aircraft - State         64\n",
            "Air Race/show                   59\n",
            "Glider Tow                      53\n",
            "Firefighting                    40\n",
            "Air Drop                        11\n",
            "ASHO                             6\n",
            "PUBS                             4\n",
            "PUBL                             1\n",
            "Name: Purpose.of.flight, dtype: int64\n"
          ]
        }
      ]
    },
    {
      "cell_type": "code",
      "source": [
        "top_ten_purposes = total_purpose[:10]\n",
        "print(top_ten_purposes)\n",
        "top_ten_purposes.plot(kind='bar')\n",
        "plt.title('Top Ten Accidents by Purpose of Flight ')\n",
        "plt.xlabel('Purpose of Flight')\n",
        "plt.ylabel('Number of Accidents')\n",
        "#plt.xticks(rotation=45, ha='right')\n",
        "plt.tight_layout()"
      ],
      "metadata": {
        "colab": {
          "base_uri": "https://localhost:8080/",
          "height": 678
        },
        "id": "wA7RYq1zQuTk",
        "outputId": "24cd3f76-c2bf-43fa-bb82-ca69565bf453"
      },
      "execution_count": 50,
      "outputs": [
        {
          "output_type": "stream",
          "name": "stdout",
          "text": [
            "Personal              49448\n",
            "Instructional         10601\n",
            "Unknown                6802\n",
            "Aerial Application     4712\n",
            "Business               4018\n",
            "Positioning            1646\n",
            "Other Work Use         1264\n",
            "Ferry                   812\n",
            "Aerial Observation      794\n",
            "Public Aircraft         720\n",
            "Name: Purpose.of.flight, dtype: int64\n"
          ]
        },
        {
          "output_type": "display_data",
          "data": {
            "text/plain": [
              "<Figure size 640x480 with 1 Axes>"
            ],
            "image/png": "[encoded data removed]"
          },
          "metadata": {}
        }
      ]
    },
    {
      "cell_type": "markdown",
      "source": [
        "### **As 'Personal' flight accounts for more than 50% of the total accidents**"
      ],
      "metadata": {
        "id": "U5JI3z698g2E"
      }
    },
    {
      "cell_type": "code",
      "source": [],
      "metadata": {
        "id": "NP7I7AG47WE-"
      },
      "execution_count": 50,
      "outputs": []
    },
    {
      "cell_type": "markdown",
      "source": [],
      "metadata": {
        "id": "Y1B55FJV-J4V"
      }
    },
    {
      "cell_type": "markdown",
      "source": [],
      "metadata": {
        "id": "0anefwBW-J03"
      }
    },
    {
      "cell_type": "markdown",
      "source": [],
      "metadata": {
        "id": "WU0NkTpW-JyQ"
      }
    },
    {
      "cell_type": "markdown",
      "source": [],
      "metadata": {
        "id": "0XKvfnvT-Jv1"
      }
    },
    {
      "cell_type": "markdown",
      "source": [],
      "metadata": {
        "id": "9JE1AUfQ-Jtd"
      }
    },
    {
      "cell_type": "markdown",
      "source": [],
      "metadata": {
        "id": "5BzbF37q-Jqy"
      }
    },
    {
      "cell_type": "markdown",
      "source": [
        "# Exploring Time Data\n"
      ],
      "metadata": {
        "id": "x3xzU9FK-JoV"
      }
    },
    {
      "cell_type": "code",
      "source": [
        "import matplotlib.pyplot as plt"
      ],
      "metadata": {
        "id": "wxgpFItB-V3M"
      },
      "execution_count": 51,
      "outputs": []
    },
    {
      "cell_type": "code",
      "source": [
        "df['Event.Date'] = pd.to_datetime(df['Event.Date'], format='%Y-%m-%d')\n",
        "df['Month'] = df['Event.Date'].dt.month\n",
        "df['Year'] = df['Event.Date'].dt.year"
      ],
      "metadata": {
        "id": "k72g4M_d-KaY"
      },
      "execution_count": 52,
      "outputs": []
    },
    {
      "cell_type": "code",
      "source": [
        "df['Month'].value_counts().sort_index().plot(kind='bar')"
      ],
      "metadata": {
        "colab": {
          "base_uri": "https://localhost:8080/",
          "height": 451
        },
        "id": "W2UeKTaSAfCE",
        "outputId": "ba8427b4-2667-4c0f-c14c-684dfef965a6"
      },
      "execution_count": 53,
      "outputs": [
        {
          "output_type": "execute_result",
          "data": {
            "text/plain": [
              "<Axes: >"
            ]
          },
          "metadata": {},
          "execution_count": 53
        },
        {
          "output_type": "display_data",
          "data": {
            "text/plain": [
              "<Figure size 640x480 with 1 Axes>"
            ],
            "image/png": "[encoded data removed]"
          },
          "metadata": {}
        }
      ]
    },
    {
      "cell_type": "markdown",
      "source": [
        "## **Mid Year month have more accident , WHY?**\n",
        "\n",
        "vaccations????\n",
        "\n",
        "are these for personal purpose???"
      ],
      "metadata": {
        "id": "8Xv7cQ23CWft"
      }
    },
    {
      "cell_type": "code",
      "source": [],
      "metadata": {
        "id": "fm-fXNiXCWGO"
      },
      "execution_count": 53,
      "outputs": []
    },
    {
      "cell_type": "code",
      "source": [],
      "metadata": {
        "id": "Ta6btRGgKceM"
      },
      "execution_count": 53,
      "outputs": []
    },
    {
      "cell_type": "code",
      "source": [],
      "metadata": {
        "id": "jtsdJ3W5Kcav"
      },
      "execution_count": 53,
      "outputs": []
    },
    {
      "cell_type": "code",
      "source": [],
      "metadata": {
        "id": "pRMwfwvXKcX-"
      },
      "execution_count": 53,
      "outputs": []
    },
    {
      "cell_type": "code",
      "source": [
        "df['Year'].value_counts()"
      ],
      "metadata": {
        "colab": {
          "base_uri": "https://localhost:8080/"
        },
        "id": "QQBAINwLKcVC",
        "outputId": "73374ea4-d4d6-40c8-8dea-34c2e1829027"
      },
      "execution_count": 54,
      "outputs": [
        {
          "output_type": "execute_result",
          "data": {
            "text/plain": [
              "1982    3593\n",
              "1983    3556\n",
              "1984    3457\n",
              "1985    3096\n",
              "1986    2880\n",
              "1987    2828\n",
              "1988    2730\n",
              "1989    2544\n",
              "1990    2518\n",
              "1991    2462\n",
              "1992    2355\n",
              "1993    2313\n",
              "1995    2309\n",
              "1994    2257\n",
              "1998    2226\n",
              "2000    2220\n",
              "1999    2209\n",
              "1996    2187\n",
              "1997    2148\n",
              "2003    2085\n",
              "2001    2063\n",
              "2005    2031\n",
              "2002    2020\n",
              "2007    2016\n",
              "2004    1952\n",
              "2008    1893\n",
              "2006    1851\n",
              "2011    1850\n",
              "2012    1835\n",
              "2010    1786\n",
              "2009    1783\n",
              "2018    1681\n",
              "2016    1664\n",
              "2017    1638\n",
              "2019    1624\n",
              "2022    1607\n",
              "2015    1582\n",
              "2013    1561\n",
              "2021    1545\n",
              "2014    1535\n",
              "2020    1392\n",
              "1979       2\n",
              "1962       1\n",
              "1981       1\n",
              "1977       1\n",
              "1974       1\n",
              "1948       1\n",
              "Name: Year, dtype: int64"
            ]
          },
          "metadata": {},
          "execution_count": 54
        }
      ]
    },
    {
      "cell_type": "markdown",
      "source": [
        "#**No/less Data Before 1982**"
      ],
      "metadata": {
        "id": "KnMnG_txK3ni"
      }
    },
    {
      "cell_type": "code",
      "source": [
        "df_adjusted=df[df['Year'] >= 1982]\n",
        "df_adjusted=df_adjusted['Year'].value_counts().sort_index()\n",
        "plt.plot(df_adjusted.index,df_adjusted.values)\n",
        "\n",
        "plt.title('Number of Aviation Accidents (1982 Onwards)')\n",
        "plt.xlabel('Year')\n",
        "plt.ylabel('Number of Accidents')\n",
        "plt.show()"
      ],
      "metadata": {
        "colab": {
          "base_uri": "https://localhost:8080/",
          "height": 472
        },
        "id": "5XN3R_JILMm0",
        "outputId": "bd51dda3-2480-4cd5-a205-80fd9089b6d9"
      },
      "execution_count": 55,
      "outputs": [
        {
          "output_type": "display_data",
          "data": {
            "text/plain": [
              "<Figure size 640x480 with 1 Axes>"
            ],
            "image/png": "[encoded data removed]"
          },
          "metadata": {}
        }
      ]
    },
    {
      "cell_type": "code",
      "source": [
        "nf = df[df['Year'] >= 2015]\n",
        "nf=nf['Year'].value_counts().sort_index()\n",
        "plt.plot(nf.index,nf.values)\n",
        "\n",
        "\n",
        "\n",
        "\n",
        "\n",
        "plt.title('Number of Aviation Accidents (1982 Onwards)')\n",
        "plt.xlabel('Year')\n",
        "plt.ylabel('Number of Accidents')\n",
        "plt.show()"
      ],
      "metadata": {
        "colab": {
          "base_uri": "https://localhost:8080/",
          "height": 472
        },
        "id": "ZPwqvX87SjxY",
        "outputId": "18e4c31a-c71c-488f-e766-8659ecc5797d"
      },
      "execution_count": 56,
      "outputs": [
        {
          "output_type": "display_data",
          "data": {
            "text/plain": [
              "<Figure size 640x480 with 1 Axes>"
            ],
            "image/png": "[encoded data removed]"
          },
          "metadata": {}
        }
      ]
    },
    {
      "cell_type": "markdown",
      "source": [
        "# **DROPPED ACCIDENTS IN 2020**\n",
        "### POSSIBLE EXPLANATION\n",
        "\n",
        "\n",
        "> Flight resctriction due to corona\n",
        "\n"
      ],
      "metadata": {
        "id": "4KhJ6hJMdJ7u"
      }
    },
    {
      "cell_type": "code",
      "source": [
        "df['Day.Name.Abbr'] = df['Event.Date'].dt.day_name().str[:3]\n",
        "# Add a weekend column\n",
        "df.loc[(df['Day.Name.Abbr'] == 'Sat') | (df['Day.Name.Abbr'] == 'Sun'), 'Weekend'] = True\n",
        "df.loc[(df['Day.Name.Abbr'] != 'Sat') & (df['Day.Name.Abbr'] != 'Sun'), 'Weekend'] = False\n",
        "\n",
        "# Remove data before 1982\n",
        "df = df[df['Year'] >= 1982]\n",
        "\n",
        "df.head()"
      ],
      "metadata": {
        "colab": {
          "base_uri": "https://localhost:8080/",
          "height": 359
        },
        "id": "-0CwBBFsdCvv",
        "outputId": "ab8a468d-8c75-4b4c-efdd-de5b784f34ca"
      },
      "execution_count": 57,
      "outputs": [
        {
          "output_type": "execute_result",
          "data": {
            "text/plain": [
              "    Unnamed: 0        Event.Id Investigation.Type Event.Date  \\\n",
              "7            7  20020909X01562           Accident 1982-01-01   \n",
              "8            8  20020909X01561           Accident 1982-01-01   \n",
              "9            9  20020909X01560           Accident 1982-01-01   \n",
              "10          10  20020909X01559           Accident 1982-01-01   \n",
              "11          11  20020909X01558           Accident 1982-01-01   \n",
              "\n",
              "            Location        Country Injury.Severity Aircraft.damage  \\\n",
              "7        PULLMAN, WA  United States       Non-Fatal     Substantial   \n",
              "8   EAST HANOVER, NJ  United States       Non-Fatal     Substantial   \n",
              "9   JACKSONVILLE, FL  United States       Non-Fatal     Substantial   \n",
              "10         HOBBS, NM  United States       Non-Fatal     Substantial   \n",
              "11      TUSKEGEE, AL  United States       Non-Fatal     Substantial   \n",
              "\n",
              "              Make         Model  ...  Total.Serious.Injuries  \\\n",
              "7           Cessna           140  ...                     0.0   \n",
              "8           Cessna          401B  ...                     0.0   \n",
              "9   North American  NAVION L-17B  ...                     0.0   \n",
              "10           Piper     PA-28-161  ...                     0.0   \n",
              "11           Beech          V35B  ...                     0.0   \n",
              "\n",
              "   Total.Minor.Injuries Total.Uninjured  Weather.Condition          City  \\\n",
              "7                   0.0             2.0                VMC       PULLMAN   \n",
              "8                   0.0             2.0                IMC  EAST HANOVER   \n",
              "9                   3.0             0.0                IMC  JACKSONVILLE   \n",
              "10                  0.0             1.0                VMC         HOBBS   \n",
              "11                  0.0             1.0                VMC      TUSKEGEE   \n",
              "\n",
              "    State  Month  Year Day.Name.Abbr Weekend  \n",
              "7      WA      1  1982           Fri   False  \n",
              "8      NJ      1  1982           Fri   False  \n",
              "9      FL      1  1982           Fri   False  \n",
              "10     NM      1  1982           Fri   False  \n",
              "11     AL      1  1982           Fri   False  \n",
              "\n",
              "[5 rows x 24 columns]"
            ],
            "text/html": [
              "\n",
              "  <div id=\"df-8c42ea0e-3455-4e5d-a24c-b6afed380d12\" class=\"colab-df-container\">\n",
              "    <div>\n",
              "<style scoped>\n",
              "    .dataframe tbody tr th:only-of-type {\n",
              "        vertical-align: middle;\n",
              "    }\n",
              "\n",
              "    .dataframe tbody tr th {\n",
              "        vertical-align: top;\n",
              "    }\n",
              "\n",
              "    .dataframe thead th {\n",
              "        text-align: right;\n",
              "    }\n",
              "</style>\n",
              "<table border=\"1\" class=\"dataframe\">\n",
              "  <thead>\n",
              "    <tr style=\"text-align: right;\">\n",
              "      <th></th>\n",
              "      <th>Unnamed: 0</th>\n",
              "      <th>Event.Id</th>\n",
              "      <th>Investigation.Type</th>\n",
              "      <th>Event.Date</th>\n",
              "      <th>Location</th>\n",
              "      <th>Country</th>\n",
              "      <th>Injury.Severity</th>\n",
              "      <th>Aircraft.damage</th>\n",
              "      <th>Make</th>\n",
              "      <th>Model</th>\n",
              "      <th>...</th>\n",
              "      <th>Total.Serious.Injuries</th>\n",
              "      <th>Total.Minor.Injuries</th>\n",
              "      <th>Total.Uninjured</th>\n",
              "      <th>Weather.Condition</th>\n",
              "      <th>City</th>\n",
              "      <th>State</th>\n",
              "      <th>Month</th>\n",
              "      <th>Year</th>\n",
              "      <th>Day.Name.Abbr</th>\n",
              "      <th>Weekend</th>\n",
              "    </tr>\n",
              "  </thead>\n",
              "  <tbody>\n",
              "    <tr>\n",
              "      <th>7</th>\n",
              "      <td>7</td>\n",
              "      <td>20020909X01562</td>\n",
              "      <td>Accident</td>\n",
              "      <td>1982-01-01</td>\n",
              "      <td>PULLMAN, WA</td>\n",
              "      <td>United States</td>\n",
              "      <td>Non-Fatal</td>\n",
              "      <td>Substantial</td>\n",
              "      <td>Cessna</td>\n",
              "      <td>140</td>\n",
              "      <td>...</td>\n",
              "      <td>0.0</td>\n",
              "      <td>0.0</td>\n",
              "      <td>2.0</td>\n",
              "      <td>VMC</td>\n",
              "      <td>PULLMAN</td>\n",
              "      <td>WA</td>\n",
              "      <td>1</td>\n",
              "      <td>1982</td>\n",
              "      <td>Fri</td>\n",
              "      <td>False</td>\n",
              "    </tr>\n",
              "    <tr>\n",
              "      <th>8</th>\n",
              "      <td>8</td>\n",
              "      <td>20020909X01561</td>\n",
              "      <td>Accident</td>\n",
              "      <td>1982-01-01</td>\n",
              "      <td>EAST HANOVER, NJ</td>\n",
              "      <td>United States</td>\n",
              "      <td>Non-Fatal</td>\n",
              "      <td>Substantial</td>\n",
              "      <td>Cessna</td>\n",
              "      <td>401B</td>\n",
              "      <td>...</td>\n",
              "      <td>0.0</td>\n",
              "      <td>0.0</td>\n",
              "      <td>2.0</td>\n",
              "      <td>IMC</td>\n",
              "      <td>EAST HANOVER</td>\n",
              "      <td>NJ</td>\n",
              "      <td>1</td>\n",
              "      <td>1982</td>\n",
              "      <td>Fri</td>\n",
              "      <td>False</td>\n",
              "    </tr>\n",
              "    <tr>\n",
              "      <th>9</th>\n",
              "      <td>9</td>\n",
              "      <td>20020909X01560</td>\n",
              "      <td>Accident</td>\n",
              "      <td>1982-01-01</td>\n",
              "      <td>JACKSONVILLE, FL</td>\n",
              "      <td>United States</td>\n",
              "      <td>Non-Fatal</td>\n",
              "      <td>Substantial</td>\n",
              "      <td>North American</td>\n",
              "      <td>NAVION L-17B</td>\n",
              "      <td>...</td>\n",
              "      <td>0.0</td>\n",
              "      <td>3.0</td>\n",
              "      <td>0.0</td>\n",
              "      <td>IMC</td>\n",
              "      <td>JACKSONVILLE</td>\n",
              "      <td>FL</td>\n",
              "      <td>1</td>\n",
              "      <td>1982</td>\n",
              "      <td>Fri</td>\n",
              "      <td>False</td>\n",
              "    </tr>\n",
              "    <tr>\n",
              "      <th>10</th>\n",
              "      <td>10</td>\n",
              "      <td>20020909X01559</td>\n",
              "      <td>Accident</td>\n",
              "      <td>1982-01-01</td>\n",
              "      <td>HOBBS, NM</td>\n",
              "      <td>United States</td>\n",
              "      <td>Non-Fatal</td>\n",
              "      <td>Substantial</td>\n",
              "      <td>Piper</td>\n",
              "      <td>PA-28-161</td>\n",
              "      <td>...</td>\n",
              "      <td>0.0</td>\n",
              "      <td>0.0</td>\n",
              "      <td>1.0</td>\n",
              "      <td>VMC</td>\n",
              "      <td>HOBBS</td>\n",
              "      <td>NM</td>\n",
              "      <td>1</td>\n",
              "      <td>1982</td>\n",
              "      <td>Fri</td>\n",
              "      <td>False</td>\n",
              "    </tr>\n",
              "    <tr>\n",
              "      <th>11</th>\n",
              "      <td>11</td>\n",
              "      <td>20020909X01558</td>\n",
              "      <td>Accident</td>\n",
              "      <td>1982-01-01</td>\n",
              "      <td>TUSKEGEE, AL</td>\n",
              "      <td>United States</td>\n",
              "      <td>Non-Fatal</td>\n",
              "      <td>Substantial</td>\n",
              "      <td>Beech</td>\n",
              "      <td>V35B</td>\n",
              "      <td>...</td>\n",
              "      <td>0.0</td>\n",
              "      <td>0.0</td>\n",
              "      <td>1.0</td>\n",
              "      <td>VMC</td>\n",
              "      <td>TUSKEGEE</td>\n",
              "      <td>AL</td>\n",
              "      <td>1</td>\n",
              "      <td>1982</td>\n",
              "      <td>Fri</td>\n",
              "      <td>False</td>\n",
              "    </tr>\n",
              "  </tbody>\n",
              "</table>\n",
              "<p>5 rows × 24 columns</p>\n",
              "</div>\n",
              "    <div class=\"colab-df-buttons\">\n",
              "\n",
              "  <div class=\"colab-df-container\">\n",
              "    <button class=\"colab-df-convert\" onclick=\"convertToInteractive('df-8c42ea0e-3455-4e5d-a24c-b6afed380d12')\"\n",
              "            title=\"Convert this dataframe to an interactive table.\"\n",
              "            style=\"display:none;\">\n",
              "\n",
              "  <svg xmlns=\"http://www.w3.org/2000/svg\" height=\"24px\" viewBox=\"0 -960 960 960\">\n",
              "    <path d=\"M120-120v-720h720v720H120Zm60-500h600v-160H180v160Zm220 220h160v-160H400v160Zm0 220h160v-160H400v160ZM180-400h160v-160H180v160Zm440 0h160v-160H620v160ZM180-180h160v-160H180v160Zm440 0h160v-160H620v160Z\"/>\n",
              "  </svg>\n",
              "    </button>\n",
              "\n",
              "  <style>\n",
              "    .colab-df-container {\n",
              "      display:flex;\n",
              "      gap: 12px;\n",
              "    }\n",
              "\n",
              "    .colab-df-convert {\n",
              "      background-color: #E8F0FE;\n",
              "      border: none;\n",
              "      border-radius: 50%;\n",
              "      cursor: pointer;\n",
              "      display: none;\n",
              "      fill: #1967D2;\n",
              "      height: 32px;\n",
              "      padding: 0 0 0 0;\n",
              "      width: 32px;\n",
              "    }\n",
              "\n",
              "    .colab-df-convert:hover {\n",
              "      background-color: #E2EBFA;\n",
              "      box-shadow: 0px 1px 2px rgba(60, 64, 67, 0.3), 0px 1px 3px 1px rgba(60, 64, 67, 0.15);\n",
              "      fill: #174EA6;\n",
              "    }\n",
              "\n",
              "    .colab-df-buttons div {\n",
              "      margin-bottom: 4px;\n",
              "    }\n",
              "\n",
              "    [theme=dark] .colab-df-convert {\n",
              "      background-color: #3B4455;\n",
              "      fill: #D2E3FC;\n",
              "    }\n",
              "\n",
              "    [theme=dark] .colab-df-convert:hover {\n",
              "      background-color: #434B5C;\n",
              "      box-shadow: 0px 1px 3px 1px rgba(0, 0, 0, 0.15);\n",
              "      filter: drop-shadow(0px 1px 2px rgba(0, 0, 0, 0.3));\n",
              "      fill: #FFFFFF;\n",
              "    }\n",
              "  </style>\n",
              "\n",
              "    <script>\n",
              "      const buttonEl =\n",
              "        document.querySelector('#df-8c42ea0e-3455-4e5d-a24c-b6afed380d12 button.colab-df-convert');\n",
              "      buttonEl.style.display =\n",
              "        google.colab.kernel.accessAllowed ? 'block' : 'none';\n",
              "\n",
              "      async function convertToInteractive(key) {\n",
              "        const element = document.querySelector('#df-8c42ea0e-3455-4e5d-a24c-b6afed380d12');\n",
              "        const dataTable =\n",
              "          await google.colab.kernel.invokeFunction('convertToInteractive',\n",
              "                                                    [key], {});\n",
              "        if (!dataTable) return;\n",
              "\n",
              "        const docLinkHtml = 'Like what you see? Visit the ' +\n",
              "          '<a target=\"_blank\" href=https://colab.research.google.com/notebooks/data_table.ipynb>data table notebook</a>'\n",
              "          + ' to learn more about interactive tables.';\n",
              "        element.innerHTML = '';\n",
              "        dataTable['output_type'] = 'display_data';\n",
              "        await google.colab.output.renderOutput(dataTable, element);\n",
              "        const docLink = document.createElement('div');\n",
              "        docLink.innerHTML = docLinkHtml;\n",
              "        element.appendChild(docLink);\n",
              "      }\n",
              "    </script>\n",
              "  </div>\n",
              "\n",
              "\n",
              "<div id=\"df-de0059dc-8ba1-4d3c-8061-902d1e513814\">\n",
              "  <button class=\"colab-df-quickchart\" onclick=\"quickchart('df-de0059dc-8ba1-4d3c-8061-902d1e513814')\"\n",
              "            title=\"Suggest charts.\"\n",
              "            style=\"display:none;\">\n",
              "\n",
              "<svg xmlns=\"http://www.w3.org/2000/svg\" height=\"24px\"viewBox=\"0 0 24 24\"\n",
              "     width=\"24px\">\n",
              "    <g>\n",
              "        <path d=\"M19 3H5c-1.1 0-2 .9-2 2v14c0 1.1.9 2 2 2h14c1.1 0 2-.9 2-2V5c0-1.1-.9-2-2-2zM9 17H7v-7h2v7zm4 0h-2V7h2v10zm4 0h-2v-4h2v4z\"/>\n",
              "    </g>\n",
              "</svg>\n",
              "  </button>\n",
              "\n",
              "<style>\n",
              "  .colab-df-quickchart {\n",
              "      --bg-color: #E8F0FE;\n",
              "      --fill-color: #1967D2;\n",
              "      --hover-bg-color: #E2EBFA;\n",
              "      --hover-fill-color: #174EA6;\n",
              "      --disabled-fill-color: #AAA;\n",
              "      --disabled-bg-color: #DDD;\n",
              "  }\n",
              "\n",
              "  [theme=dark] .colab-df-quickchart {\n",
              "      --bg-color: #3B4455;\n",
              "      --fill-color: #D2E3FC;\n",
              "      --hover-bg-color: #434B5C;\n",
              "      --hover-fill-color: #FFFFFF;\n",
              "      --disabled-bg-color: #3B4455;\n",
              "      --disabled-fill-color: #666;\n",
              "  }\n",
              "\n",
              "  .colab-df-quickchart {\n",
              "    background-color: var(--bg-color);\n",
              "    border: none;\n",
              "    border-radius: 50%;\n",
              "    cursor: pointer;\n",
              "    display: none;\n",
              "    fill: var(--fill-color);\n",
              "    height: 32px;\n",
              "    padding: 0;\n",
              "    width: 32px;\n",
              "  }\n",
              "\n",
              "  .colab-df-quickchart:hover {\n",
              "    background-color: var(--hover-bg-color);\n",
              "    box-shadow: 0 1px 2px rgba(60, 64, 67, 0.3), 0 1px 3px 1px rgba(60, 64, 67, 0.15);\n",
              "    fill: var(--button-hover-fill-color);\n",
              "  }\n",
              "\n",
              "  .colab-df-quickchart-complete:disabled,\n",
              "  .colab-df-quickchart-complete:disabled:hover {\n",
              "    background-color: var(--disabled-bg-color);\n",
              "    fill: var(--disabled-fill-color);\n",
              "    box-shadow: none;\n",
              "  }\n",
              "\n",
              "  .colab-df-spinner {\n",
              "    border: 2px solid var(--fill-color);\n",
              "    border-color: transparent;\n",
              "    border-bottom-color: var(--fill-color);\n",
              "    animation:\n",
              "      spin 1s steps(1) infinite;\n",
              "  }\n",
              "\n",
              "  @keyframes spin {\n",
              "    0% {\n",
              "      border-color: transparent;\n",
              "      border-bottom-color: var(--fill-color);\n",
              "      border-left-color: var(--fill-color);\n",
              "    }\n",
              "    20% {\n",
              "      border-color: transparent;\n",
              "      border-left-color: var(--fill-color);\n",
              "      border-top-color: var(--fill-color);\n",
              "    }\n",
              "    30% {\n",
              "      border-color: transparent;\n",
              "      border-left-color: var(--fill-color);\n",
              "      border-top-color: var(--fill-color);\n",
              "      border-right-color: var(--fill-color);\n",
              "    }\n",
              "    40% {\n",
              "      border-color: transparent;\n",
              "      border-right-color: var(--fill-color);\n",
              "      border-top-color: var(--fill-color);\n",
              "    }\n",
              "    60% {\n",
              "      border-color: transparent;\n",
              "      border-right-color: var(--fill-color);\n",
              "    }\n",
              "    80% {\n",
              "      border-color: transparent;\n",
              "      border-right-color: var(--fill-color);\n",
              "      border-bottom-color: var(--fill-color);\n",
              "    }\n",
              "    90% {\n",
              "      border-color: transparent;\n",
              "      border-bottom-color: var(--fill-color);\n",
              "    }\n",
              "  }\n",
              "</style>\n",
              "\n",
              "  <script>\n",
              "    async function quickchart(key) {\n",
              "      const quickchartButtonEl =\n",
              "        document.querySelector('#' + key + ' button');\n",
              "      quickchartButtonEl.disabled = true;  // To prevent multiple clicks.\n",
              "      quickchartButtonEl.classList.add('colab-df-spinner');\n",
              "      try {\n",
              "        const charts = await google.colab.kernel.invokeFunction(\n",
              "            'suggestCharts', [key], {});\n",
              "      } catch (error) {\n",
              "        console.error('Error during call to suggestCharts:', error);\n",
              "      }\n",
              "      quickchartButtonEl.classList.remove('colab-df-spinner');\n",
              "      quickchartButtonEl.classList.add('colab-df-quickchart-complete');\n",
              "    }\n",
              "    (() => {\n",
              "      let quickchartButtonEl =\n",
              "        document.querySelector('#df-de0059dc-8ba1-4d3c-8061-902d1e513814 button');\n",
              "      quickchartButtonEl.style.display =\n",
              "        google.colab.kernel.accessAllowed ? 'block' : 'none';\n",
              "    })();\n",
              "  </script>\n",
              "</div>\n",
              "    </div>\n",
              "  </div>\n"
            ]
          },
          "metadata": {},
          "execution_count": 57
        }
      ]
    },
    {
      "cell_type": "code",
      "source": [
        "df['Day.Name.Abbr'].value_counts().plot(kind='barh')"
      ],
      "metadata": {
        "colab": {
          "base_uri": "https://localhost:8080/",
          "height": 447
        },
        "id": "kAe4NDWVSjts",
        "outputId": "d62e45ad-3476-49cd-fc5d-949b55be906a"
      },
      "execution_count": 58,
      "outputs": [
        {
          "output_type": "execute_result",
          "data": {
            "text/plain": [
              "<Axes: >"
            ]
          },
          "metadata": {},
          "execution_count": 58
        },
        {
          "output_type": "display_data",
          "data": {
            "text/plain": [
              "<Figure size 640x480 with 1 Axes>"
            ],
            "image/png": "[encoded data removed]"
          },
          "metadata": {}
        }
      ]
    },
    {
      "cell_type": "markdown",
      "source": [
        "## **Faltal Accidents each year**"
      ],
      "metadata": {
        "id": "MXF1VmvXhb5G"
      }
    },
    {
      "cell_type": "code",
      "source": [
        "# y= df.groupby('Year')\n",
        "\n",
        "\n",
        "\n",
        "# x = df['Year'].unique()\n",
        "# fatal_year={}\n",
        "# for i in  x :\n",
        "#   sum = 0\n",
        "#   for j in y.get_group(i)['Total.Fatal.Injuries']:\n",
        "#     if type(j)==type(1.0):\n",
        "#       sum+=j\n",
        "#   fatal_year[i]=sum\n",
        "\n",
        "# print(fatal_year)\n"
      ],
      "metadata": {
        "id": "ebYYVOyrim5r"
      },
      "execution_count": 59,
      "outputs": []
    },
    {
      "cell_type": "code",
      "source": [],
      "metadata": {
        "id": "EGjMaVhcmK6K"
      },
      "execution_count": 59,
      "outputs": []
    },
    {
      "cell_type": "code",
      "source": [
        "f_per_year = df.groupby('Year')['Total.Fatal.Injuries'].sum()\n",
        "f_per_year.plot()"
      ],
      "metadata": {
        "colab": {
          "base_uri": "https://localhost:8080/",
          "height": 466
        },
        "id": "DcjPnO8OSjo_",
        "outputId": "32c1bb85-6b4c-4552-eef2-72e15b9d5435"
      },
      "execution_count": 60,
      "outputs": [
        {
          "output_type": "execute_result",
          "data": {
            "text/plain": [
              "<Axes: xlabel='Year'>"
            ]
          },
          "metadata": {},
          "execution_count": 60
        },
        {
          "output_type": "display_data",
          "data": {
            "text/plain": [
              "<Figure size 640x480 with 1 Axes>"
            ],
            "image/png": "[encoded data removed]"
          },
          "metadata": {}
        }
      ]
    },
    {
      "cell_type": "code",
      "source": [
        "df['Total.Fatal.Injuries'].isnull().value_counts()"
      ],
      "metadata": {
        "colab": {
          "base_uri": "https://localhost:8080/"
        },
        "id": "EL0IQSEVSjmG",
        "outputId": "62a1a7ff-5d56-4c33-be4d-6e118a5dacdc"
      },
      "execution_count": 61,
      "outputs": [
        {
          "output_type": "execute_result",
          "data": {
            "text/plain": [
              "False    77482\n",
              "True     11400\n",
              "Name: Total.Fatal.Injuries, dtype: int64"
            ]
          },
          "metadata": {},
          "execution_count": 61
        }
      ]
    },
    {
      "cell_type": "markdown",
      "source": [
        "## 1140 Entries are null\n",
        "## we also have data in Injury.Severity"
      ],
      "metadata": {
        "id": "l4SPsYXFq6Jx"
      }
    },
    {
      "cell_type": "code",
      "source": [
        "fatal_extracted = {}\n"
      ],
      "metadata": {
        "id": "bz-cxjkMq47E"
      },
      "execution_count": 62,
      "outputs": []
    }
  ]
}